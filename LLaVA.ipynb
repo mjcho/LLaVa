{
 "cells": [
  {
   "cell_type": "markdown",
   "metadata": {},
   "source": [
    "# LLaVA \n",
    "Testing and fine-tuning models. Prompt engineering.\n",
    "\n",
    "**Notes**\n",
    "- Kernel: `/home/mjcho/micromamba/envs/llava` \n",
    "- `micromamba` is used for package management"
   ]
  },
  {
   "cell_type": "markdown",
   "metadata": {},
   "source": [
    "## Data preparation\n",
    "\n"
   ]
  },
  {
   "cell_type": "code",
   "execution_count": 7,
   "metadata": {},
   "outputs": [
    {
     "name": "stdout",
     "output_type": "stream",
     "text": [
      "The autoreload extension is already loaded. To reload it, use:\n",
      "  %reload_ext autoreload\n"
     ]
    }
   ],
   "source": [
    "%load_ext autoreload\n",
    "%autoreload 2\n",
    "\n",
    "import pandas as pd\n",
    "import os\n",
    "import shutil"
   ]
  },
  {
   "cell_type": "code",
   "execution_count": 8,
   "metadata": {},
   "outputs": [
    {
     "name": "stderr",
     "output_type": "stream",
     "text": [
      "/var/tmp/ipykernel_41236/2663000194.py:2: DtypeWarning: Columns (771,772,773,774,775,776,778,779,780,781,782,783,784,789,790,791,792,795,797,799,801,802) have mixed types. Specify dtype option on import or set low_memory=False.\n",
      "  label_dat = pd.read_csv('/home/mjcho/Food_Identification/data/label_features_ocr.csv')\n"
     ]
    },
    {
     "name": "stdout",
     "output_type": "stream",
     "text": [
      "food_drink_brand\n",
      "0    22965\n",
      "1      221\n",
      "2       82\n",
      "Name: count, dtype: int64\n"
     ]
    }
   ],
   "source": [
    "# load the data\n",
    "label_dat = pd.read_csv('/home/mjcho/Food_Identification/data/label_features_ocr.csv')\n",
    "\n",
    "# code food_drink_brand\n",
    "label_dat['food_drink_brand'] = 0\n",
    "label_dat.loc[(label_dat.food_or_drink == 1) & (label_dat.brand == 0), 'food_drink_brand'] = 1\n",
    "label_dat.loc[(label_dat.food_or_drink == 1) & (label_dat.brand == 1), 'food_drink_brand'] = 2\n",
    "\n",
    "# print counts\n",
    "print(label_dat.food_drink_brand.value_counts())"
   ]
  },
  {
   "cell_type": "code",
   "execution_count": 9,
   "metadata": {},
   "outputs": [
    {
     "name": "stdout",
     "output_type": "stream",
     "text": [
      "(1818, 831)\n"
     ]
    },
    {
     "data": {
      "text/html": [
       "<div>\n",
       "<style scoped>\n",
       "    .dataframe tbody tr th:only-of-type {\n",
       "        vertical-align: middle;\n",
       "    }\n",
       "\n",
       "    .dataframe tbody tr th {\n",
       "        vertical-align: top;\n",
       "    }\n",
       "\n",
       "    .dataframe thead th {\n",
       "        text-align: right;\n",
       "    }\n",
       "</style>\n",
       "<table border=\"1\" class=\"dataframe\">\n",
       "  <thead>\n",
       "    <tr style=\"text-align: right;\">\n",
       "      <th></th>\n",
       "      <th>image_id</th>\n",
       "      <th>feature1</th>\n",
       "      <th>feature2</th>\n",
       "      <th>feature3</th>\n",
       "      <th>feature4</th>\n",
       "      <th>feature5</th>\n",
       "      <th>feature6</th>\n",
       "      <th>feature7</th>\n",
       "      <th>feature8</th>\n",
       "      <th>feature9</th>\n",
       "      <th>...</th>\n",
       "      <th>food_or_drink</th>\n",
       "      <th>brand_t</th>\n",
       "      <th>brand_i</th>\n",
       "      <th>brand</th>\n",
       "      <th>pid</th>\n",
       "      <th>image_link</th>\n",
       "      <th>date</th>\n",
       "      <th>time</th>\n",
       "      <th>text</th>\n",
       "      <th>food_drink_brand</th>\n",
       "    </tr>\n",
       "  </thead>\n",
       "  <tbody>\n",
       "    <tr>\n",
       "      <th>0</th>\n",
       "      <td>family_1002321_brynnalana98@gmail.com202105130...</td>\n",
       "      <td>-0.5850</td>\n",
       "      <td>-0.3547</td>\n",
       "      <td>0.01146</td>\n",
       "      <td>-0.3430</td>\n",
       "      <td>-0.2980</td>\n",
       "      <td>0.1302</td>\n",
       "      <td>0.21350</td>\n",
       "      <td>0.2710</td>\n",
       "      <td>0.03014</td>\n",
       "      <td>...</td>\n",
       "      <td>1</td>\n",
       "      <td>0</td>\n",
       "      <td>1</td>\n",
       "      <td>1</td>\n",
       "      <td>family_1002321_brynnalana98@gmail.com</td>\n",
       "      <td>hs-nero-phi-reeves-haitech-appspot-com-family/...</td>\n",
       "      <td>2021-05-13</td>\n",
       "      <td>03:09:10.332000</td>\n",
       "      <td>@ $ 5 $ 8.09 Following For You 197K white wome...</td>\n",
       "      <td>2</td>\n",
       "    </tr>\n",
       "    <tr>\n",
       "      <th>1</th>\n",
       "      <td>family_1002321_brynnalana98@gmail.com202105130...</td>\n",
       "      <td>-0.1741</td>\n",
       "      <td>-0.2370</td>\n",
       "      <td>-0.13720</td>\n",
       "      <td>0.3206</td>\n",
       "      <td>-0.3950</td>\n",
       "      <td>0.1630</td>\n",
       "      <td>0.17860</td>\n",
       "      <td>0.4438</td>\n",
       "      <td>0.20970</td>\n",
       "      <td>...</td>\n",
       "      <td>1</td>\n",
       "      <td>0</td>\n",
       "      <td>1</td>\n",
       "      <td>1</td>\n",
       "      <td>family_1002321_brynnalana98@gmail.com</td>\n",
       "      <td>hs-nero-phi-reeves-haitech-appspot-com-family/...</td>\n",
       "      <td>2021-05-13</td>\n",
       "      <td>03:09:15.333000</td>\n",
       "      <td>@ $ 0 8.09 Following For You 197 white women a...</td>\n",
       "      <td>2</td>\n",
       "    </tr>\n",
       "    <tr>\n",
       "      <th>2</th>\n",
       "      <td>family_1002321_brynnalana98@gmail.com202105130...</td>\n",
       "      <td>-0.2274</td>\n",
       "      <td>-0.4010</td>\n",
       "      <td>0.05176</td>\n",
       "      <td>0.1183</td>\n",
       "      <td>-0.3530</td>\n",
       "      <td>0.2588</td>\n",
       "      <td>-0.05957</td>\n",
       "      <td>0.4880</td>\n",
       "      <td>0.36500</td>\n",
       "      <td>...</td>\n",
       "      <td>1</td>\n",
       "      <td>0</td>\n",
       "      <td>1</td>\n",
       "      <td>1</td>\n",
       "      <td>family_1002321_brynnalana98@gmail.com</td>\n",
       "      <td>hs-nero-phi-reeves-haitech-appspot-com-family/...</td>\n",
       "      <td>2021-05-13</td>\n",
       "      <td>03:09:20.335000</td>\n",
       "      <td>@ $ 0 8.09 Following For You 7 197K white wome...</td>\n",
       "      <td>2</td>\n",
       "    </tr>\n",
       "    <tr>\n",
       "      <th>3</th>\n",
       "      <td>family_1002321_brynnalana98@gmail.com202105130...</td>\n",
       "      <td>-0.2870</td>\n",
       "      <td>-0.5645</td>\n",
       "      <td>0.40060</td>\n",
       "      <td>-0.1080</td>\n",
       "      <td>-0.8384</td>\n",
       "      <td>0.1603</td>\n",
       "      <td>0.01624</td>\n",
       "      <td>0.5780</td>\n",
       "      <td>0.33980</td>\n",
       "      <td>...</td>\n",
       "      <td>1</td>\n",
       "      <td>0</td>\n",
       "      <td>1</td>\n",
       "      <td>1</td>\n",
       "      <td>family_1002321_brynnalana98@gmail.com</td>\n",
       "      <td>hs-nero-phi-reeves-haitech-appspot-com-family/...</td>\n",
       "      <td>2021-05-13</td>\n",
       "      <td>03:09:25.337000</td>\n",
       "      <td>8.09 For Following You 1 [ 19,7k white women a...</td>\n",
       "      <td>2</td>\n",
       "    </tr>\n",
       "    <tr>\n",
       "      <th>4</th>\n",
       "      <td>family_1002321_brynnalana98@gmail.com202105130...</td>\n",
       "      <td>-0.5230</td>\n",
       "      <td>-0.8960</td>\n",
       "      <td>0.01814</td>\n",
       "      <td>0.1549</td>\n",
       "      <td>-0.7550</td>\n",
       "      <td>0.2769</td>\n",
       "      <td>0.02353</td>\n",
       "      <td>0.5884</td>\n",
       "      <td>0.29100</td>\n",
       "      <td>...</td>\n",
       "      <td>1</td>\n",
       "      <td>0</td>\n",
       "      <td>1</td>\n",
       "      <td>1</td>\n",
       "      <td>family_1002321_brynnalana98@gmail.com</td>\n",
       "      <td>hs-nero-phi-reeves-haitech-appspot-com-family/...</td>\n",
       "      <td>2021-05-13</td>\n",
       "      <td>03:09:30.338000</td>\n",
       "      <td>@ $ 8.09 For Following You 197K white women ar...</td>\n",
       "      <td>2</td>\n",
       "    </tr>\n",
       "  </tbody>\n",
       "</table>\n",
       "<p>5 rows × 831 columns</p>\n",
       "</div>"
      ],
      "text/plain": [
       "                                            image_id  feature1  feature2  \\\n",
       "0  family_1002321_brynnalana98@gmail.com202105130...   -0.5850   -0.3547   \n",
       "1  family_1002321_brynnalana98@gmail.com202105130...   -0.1741   -0.2370   \n",
       "2  family_1002321_brynnalana98@gmail.com202105130...   -0.2274   -0.4010   \n",
       "3  family_1002321_brynnalana98@gmail.com202105130...   -0.2870   -0.5645   \n",
       "4  family_1002321_brynnalana98@gmail.com202105130...   -0.5230   -0.8960   \n",
       "\n",
       "   feature3  feature4  feature5  feature6  feature7  feature8  feature9  ...  \\\n",
       "0   0.01146   -0.3430   -0.2980    0.1302   0.21350    0.2710   0.03014  ...   \n",
       "1  -0.13720    0.3206   -0.3950    0.1630   0.17860    0.4438   0.20970  ...   \n",
       "2   0.05176    0.1183   -0.3530    0.2588  -0.05957    0.4880   0.36500  ...   \n",
       "3   0.40060   -0.1080   -0.8384    0.1603   0.01624    0.5780   0.33980  ...   \n",
       "4   0.01814    0.1549   -0.7550    0.2769   0.02353    0.5884   0.29100  ...   \n",
       "\n",
       "   food_or_drink  brand_t  brand_i  brand  \\\n",
       "0              1        0        1      1   \n",
       "1              1        0        1      1   \n",
       "2              1        0        1      1   \n",
       "3              1        0        1      1   \n",
       "4              1        0        1      1   \n",
       "\n",
       "                                     pid  \\\n",
       "0  family_1002321_brynnalana98@gmail.com   \n",
       "1  family_1002321_brynnalana98@gmail.com   \n",
       "2  family_1002321_brynnalana98@gmail.com   \n",
       "3  family_1002321_brynnalana98@gmail.com   \n",
       "4  family_1002321_brynnalana98@gmail.com   \n",
       "\n",
       "                                          image_link        date  \\\n",
       "0  hs-nero-phi-reeves-haitech-appspot-com-family/...  2021-05-13   \n",
       "1  hs-nero-phi-reeves-haitech-appspot-com-family/...  2021-05-13   \n",
       "2  hs-nero-phi-reeves-haitech-appspot-com-family/...  2021-05-13   \n",
       "3  hs-nero-phi-reeves-haitech-appspot-com-family/...  2021-05-13   \n",
       "4  hs-nero-phi-reeves-haitech-appspot-com-family/...  2021-05-13   \n",
       "\n",
       "              time                                               text  \\\n",
       "0  03:09:10.332000  @ $ 5 $ 8.09 Following For You 197K white wome...   \n",
       "1  03:09:15.333000  @ $ 0 8.09 Following For You 197 white women a...   \n",
       "2  03:09:20.335000  @ $ 0 8.09 Following For You 7 197K white wome...   \n",
       "3  03:09:25.337000  8.09 For Following You 1 [ 19,7k white women a...   \n",
       "4  03:09:30.338000  @ $ 8.09 For Following You 197K white women ar...   \n",
       "\n",
       "   food_drink_brand  \n",
       "0                 2  \n",
       "1                 2  \n",
       "2                 2  \n",
       "3                 2  \n",
       "4                 2  \n",
       "\n",
       "[5 rows x 831 columns]"
      ]
     },
     "execution_count": 9,
     "metadata": {},
     "output_type": "execute_result"
    }
   ],
   "source": [
    "# Compile a dataframe contains all the rows where food_drink_brand is 1 or 2\n",
    "y_dat = label_dat[label_dat.food_drink_brand != 0]\n",
    "\n",
    "# Randomly select 3 times the number of rows of y_dat from label_dat where food_drink_brand is 0\n",
    "n = y_dat.shape[0]\n",
    "n_rows = 5 * n\n",
    "# select rows from label_dat where food_drink_brand is 0\n",
    "n_dat = label_dat[label_dat.food_drink_brand == 0].sample(n=n_rows, random_state=370)\n",
    "\n",
    "# Combine y_dat and n_dat\n",
    "dat = pd.concat([y_dat, n_dat], axis=0)\n",
    "dat.reset_index(drop=True, inplace=True)\n",
    "print(dat.shape)\n",
    "dat.head()\n"
   ]
  },
  {
   "cell_type": "code",
   "execution_count": 10,
   "metadata": {},
   "outputs": [
    {
     "name": "stdout",
     "output_type": "stream",
     "text": [
      "img_exists\n",
      "True     1733\n",
      "False      85\n",
      "Name: count, dtype: int64\n"
     ]
    }
   ],
   "source": [
    "# check if all image_ids in dat exist in the folder /home/mjcho/Food_Identification/labeled_imgs_resized_0.5\n",
    "img_folder = '/home/mjcho/Food_Identification/labeled_imgs_resized_0.5'\n",
    "img_files = os.listdir(img_folder)\n",
    "dat['img_exists'] = dat.image_id.isin(img_files)\n",
    "print(dat.img_exists.value_counts())\n",
    "\n",
    "# subset dat to only include rows where img_exists is True\n",
    "# dat = dat[dat.img_exists]"
   ]
  },
  {
   "cell_type": "code",
   "execution_count": 11,
   "metadata": {},
   "outputs": [
    {
     "data": {
      "text/plain": [
       "313     family_200211_harrislore@hotmail.com2021052316...\n",
       "330     w5_3309_raerenae_33@yahoo.com20201129213119150...\n",
       "331     family_201142_munchiepoo1122@gmail.com20210521...\n",
       "345        w5_1551_jule79j@gmail.com20201028233129960.jpg\n",
       "374     family_206865_luv2readhere@gmail.com2021071912...\n",
       "                              ...                        \n",
       "1751    w5_3439_bryanhickman98@yahoo.com20201207154444...\n",
       "1757    family_206737_takaruharris@gmail.com2021072101...\n",
       "1762    w5_2456_bon.bon.stahl@gmail.com202007132307286...\n",
       "1778    family_1002321_brynnalana98@gmail.com202105302...\n",
       "1783    w5_2456_bon.bon.stahl@gmail.com202007132301133...\n",
       "Name: image_id, Length: 85, dtype: object"
      ]
     },
     "execution_count": 11,
     "metadata": {},
     "output_type": "execute_result"
    }
   ],
   "source": [
    "# print image_id that does not have an image\n",
    "# This is because these images were not downloaded in Viewer.ipynb, maybe due to wrong image_id input when labeling\n",
    "dat['image_id'][dat['img_exists'] == False]"
   ]
  },
  {
   "cell_type": "code",
   "execution_count": 12,
   "metadata": {},
   "outputs": [
    {
     "data": {
      "text/plain": [
       "(1818, 832)"
      ]
     },
     "execution_count": 12,
     "metadata": {},
     "output_type": "execute_result"
    }
   ],
   "source": [
    "dat.shape"
   ]
  },
  {
   "cell_type": "code",
   "execution_count": 13,
   "metadata": {},
   "outputs": [],
   "source": [
    "# # create a folder to store images, then copy images that are in dat.image_id from img_folder to the new folder\n",
    "\n",
    "# import os\n",
    "\n",
    "# # create a folder to store images\n",
    "# img_folder_new = '/home/mjcho/Food_Identification/llava-food_drink_brand'\n",
    "# if not os.path.exists(img_folder_new):\n",
    "#     os.makedirs(img_folder_new)\n",
    "\n",
    "# # copy images\n",
    "# for img in dat.image_id:\n",
    "#     shutil.copy(os.path.join(img_folder, img), os.path.join(img_folder_new, img))   \n"
   ]
  },
  {
   "cell_type": "code",
   "execution_count": null,
   "metadata": {},
   "outputs": [],
   "source": [
    "# save dat to a csv file, include both image_id and food_drink_brand\n",
    "dat.to_csv('/home/mjcho/Food_Identification/data/llava-food_drink_brand.csv', index=False)"
   ]
  },
  {
   "cell_type": "markdown",
   "metadata": {},
   "source": [
    "## LLaVA: no tuning"
   ]
  },
  {
   "cell_type": "code",
   "execution_count": null,
   "metadata": {},
   "outputs": [
    {
     "name": "stdout",
     "output_type": "stream",
     "text": [
      "The autoreload extension is already loaded. To reload it, use:\n",
      "  %reload_ext autoreload\n"
     ]
    }
   ],
   "source": [
    "%load_ext autoreload\n",
    "%autoreload 2\n",
    "\n",
    "from llava.model.builder import load_pretrained_model\n",
    "from llava.mm_utils import get_model_name_from_path\n",
    "from llava.eval.run_llava import eval_model\n",
    "from llava.utils import disable_torch_init\n",
    "from llava.conversation import conv_templates, SeparatorStyle\n",
    "from llava.mm_utils import (\n",
    "    process_images,\n",
    "    tokenizer_image_token,\n",
    "    get_model_name_from_path,\n",
    ")\n",
    "\n",
    "import torch\n",
    "import re \n",
    "from pathlib import Path\n",
    "from PIL import Image\n",
    "from io import BytesIO\n",
    "import requests\n",
    "from tqdm import tqdm\n",
    "\n",
    "from llava.constants import (\n",
    "    IMAGE_TOKEN_INDEX,\n",
    "    DEFAULT_IMAGE_TOKEN,\n",
    "    DEFAULT_IM_START_TOKEN,\n",
    "    DEFAULT_IM_END_TOKEN,\n",
    "    IMAGE_PLACEHOLDER,\n",
    ")"
   ]
  },
  {
   "cell_type": "code",
   "execution_count": null,
   "metadata": {},
   "outputs": [],
   "source": [
    "# # Test loading model\n",
    "# model_path = \"liuhaotian/llava-v1.6-mistral-7b\"\n",
    "\n",
    "# tokenizer, model, image_processor, context_len = load_pretrained_model(\n",
    "#     model_path=model_path,\n",
    "#     model_base=None,\n",
    "#     model_name=get_model_name_from_path(model_path)\n",
    "# )"
   ]
  },
  {
   "cell_type": "code",
   "execution_count": null,
   "metadata": {},
   "outputs": [],
   "source": [
    "# model_path = \"liuhaotian/llava-v1.5-7b\"\n",
    "# prompt = \"What are the things for eating and drinking in this image?\"\n",
    "# image_file = \"https://llava-vl.github.io/static/images/view.jpg\" # \"images/fastfood.jpg\"\n",
    "\n",
    "# args = type('Args', (), {\n",
    "#     \"model_path\": model_path,\n",
    "#     \"model_base\": None,\n",
    "#     \"model_name\": get_model_name_from_path(model_path),\n",
    "#     \"query\": prompt,\n",
    "#     \"conv_mode\": None,\n",
    "#     \"image_file\": image_file,\n",
    "#     \"sep\": \",\",\n",
    "#     \"temperature\": 0,\n",
    "#     \"top_p\": None,\n",
    "#     \"num_beams\": 1,\n",
    "#     \"max_new_tokens\": 512\n",
    "# })()\n",
    "\n",
    "# eval_model(args)"
   ]
  },
  {
   "cell_type": "code",
   "execution_count": null,
   "metadata": {},
   "outputs": [
    {
     "name": "stderr",
     "output_type": "stream",
     "text": [
      "You are using a model of type llava to instantiate a model of type llava_llama. This is not supported for all configurations of models and can yield errors.\n",
      "Loading checkpoint shards:   0%|          | 0/2 [00:00<?, ?it/s]/home/mjcho/micromamba/envs/llava/lib/python3.10/site-packages/torch/_utils.py:831: UserWarning: TypedStorage is deprecated. It will be removed in the future and UntypedStorage will be the only storage class. This should only matter to you if you are using storages directly.  To access UntypedStorage directly, use tensor.untyped_storage() instead of tensor.storage()\n",
      "  return self.fget.__get__(instance, owner)()\n",
      "Loading checkpoint shards: 100%|██████████| 2/2 [03:06<00:00, 93.36s/it] \n"
     ]
    }
   ],
   "source": [
    "# Load model\n",
    "\n",
    "disable_torch_init()\n",
    "\n",
    "model_path = \"liuhaotian/llava-v1.5-7b\" # \n",
    "# model_path = \"liuhaotian/llava-v1.6-mistral-7b\"\n",
    "\n",
    "model_name = get_model_name_from_path(model_path)\n",
    "tokenizer, model, image_processor, context_len = load_pretrained_model(\n",
    "    model_path, model_base = None, model_name = model_name\n",
    ")"
   ]
  },
  {
   "cell_type": "code",
   "execution_count": null,
   "metadata": {},
   "outputs": [
    {
     "data": {
      "text/plain": [
       "device(type='cuda', index=0)"
      ]
     },
     "execution_count": 3,
     "metadata": {},
     "output_type": "execute_result"
    }
   ],
   "source": [
    "model.device"
   ]
  },
  {
   "cell_type": "code",
   "execution_count": null,
   "metadata": {},
   "outputs": [],
   "source": [
    "# args\n",
    "# \"model_path\": model_path,\n",
    "# \"model_base\": None,\n",
    "# \"model_name\": get_model_name_from_path(model_path),\n",
    "# \"query\": prompt,\n",
    "# \"conv_mode\": None,\n",
    "# \"image_file\": image_file,\n",
    "# \"sep\": \",\",\n",
    "# \"temperature\": 0,\n",
    "# \"top_p\": None,\n",
    "# \"num_beams\": 1,\n",
    "# \"max_new_tokens\": 512\n",
    "\n",
    "# choose conv mode\n",
    "if \"llama-2\" in model_name.lower():\n",
    "    conv_mode = \"llava_llama_2\"\n",
    "elif \"mistral\" in model_name.lower():\n",
    "    conv_mode = \"mistral_instruct\"\n",
    "elif \"v1.6-34b\" in model_name.lower():\n",
    "    conv_mode = \"chatml_direct\"\n",
    "elif \"v1\" in model_name.lower():\n",
    "    conv_mode = \"llava_v1\"\n",
    "elif \"mpt\" in model_name.lower():\n",
    "    conv_mode = \"mpt\"\n",
    "else:\n",
    "    conv_mode = \"llava_v0\"\n",
    "\n",
    "temperature = 0\n",
    "top_p = None\n",
    "num_beams = 1\n",
    "max_new_tokens = 512"
   ]
  },
  {
   "cell_type": "code",
   "execution_count": null,
   "metadata": {},
   "outputs": [],
   "source": [
    "# format query\n",
    "qs = \"Please analyze the content of the provided image to determine if it contains any food or drink items. If you find no food or drink items in either text or image format, reply with 0. If you find food or drink items that are not branded, reply with 1. If you find food or drink items that are branded, reply with 2.\" \n",
    "image_token_se = DEFAULT_IM_START_TOKEN + DEFAULT_IMAGE_TOKEN + DEFAULT_IM_END_TOKEN\n",
    "if IMAGE_PLACEHOLDER in qs:\n",
    "    if model.config.mm_use_im_start_end:\n",
    "        qs = re.sub(IMAGE_PLACEHOLDER, image_token_se, qs)\n",
    "    else:\n",
    "        qs = re.sub(IMAGE_PLACEHOLDER, DEFAULT_IMAGE_TOKEN, qs)\n",
    "else:\n",
    "    if model.config.mm_use_im_start_end:\n",
    "        qs = image_token_se + \"\\n\" + qs\n",
    "    else:\n",
    "        qs = DEFAULT_IMAGE_TOKEN + \"\\n\" + qs"
   ]
  },
  {
   "cell_type": "code",
   "execution_count": null,
   "metadata": {},
   "outputs": [],
   "source": [
    "conv = conv_templates[conv_mode].copy()\n",
    "conv.append_message(conv.roles[0], qs)\n",
    "conv.append_message(conv.roles[1], None)\n",
    "prompt = conv.get_prompt()\n",
    "\n",
    "input_ids = (\n",
    "    tokenizer_image_token(prompt, tokenizer, IMAGE_TOKEN_INDEX, return_tensors=\"pt\")\n",
    "    .unsqueeze(0)\n",
    "    .cuda()\n",
    ")"
   ]
  },
  {
   "cell_type": "code",
   "execution_count": null,
   "metadata": {},
   "outputs": [],
   "source": [
    "def load_images(image_files):\n",
    "    out = []\n",
    "    for image_file in image_files:\n",
    "        image = load_image(image_file)\n",
    "        out.append(image)\n",
    "    return out\n",
    "\n",
    "def load_image(image_file):\n",
    "    if image_file.startswith(\"http\") or image_file.startswith(\"https\"):\n",
    "        response = requests.get(image_file)\n",
    "        image = Image.open(BytesIO(response.content)).convert(\"RGB\")\n",
    "    else:\n",
    "        image = Image.open(image_file).convert(\"RGB\")\n",
    "    return image\n"
   ]
  },
  {
   "cell_type": "markdown",
   "metadata": {},
   "source": [
    "### Testing"
   ]
  },
  {
   "cell_type": "code",
   "execution_count": null,
   "metadata": {},
   "outputs": [
    {
     "name": "stdout",
     "output_type": "stream",
     "text": [
      "['images/fastfood.jpeg', 'images/tacobell.jpeg']\n",
      "<class 'torch.Tensor'>\n",
      "torch.Size([1, 3, 336, 336])\n",
      "cuda:0\n"
     ]
    }
   ],
   "source": [
    "# load images\n",
    "image_files =  Path(\"images\").glob(\"*.jpeg\")\n",
    "# convert image_files to list of strings\n",
    "image_files = [str(image_file) for image_file in image_files]\n",
    "print(image_files)\n",
    "# images = load_images(image_files)\n",
    "images = [load_image(image_files[0])]\n",
    "image_sizes = [x.size for x in images]\n",
    "images_tensor = process_images(\n",
    "    images,\n",
    "    image_processor,\n",
    "    model.config\n",
    ").to(model.device, dtype=torch.float16)\n",
    "\n",
    "# check\n",
    "print(type(images_tensor))\n",
    "print(images_tensor.shape)\n",
    "print(images_tensor.device)"
   ]
  },
  {
   "cell_type": "code",
   "execution_count": null,
   "metadata": {},
   "outputs": [],
   "source": [
    "conv = conv_templates[conv_mode].copy()\n",
    "conv.append_message(conv.roles[0], qs)\n",
    "conv.append_message(conv.roles[1], None)\n",
    "prompt = conv.get_prompt()"
   ]
  },
  {
   "cell_type": "code",
   "execution_count": null,
   "metadata": {},
   "outputs": [],
   "source": [
    "input_ids = (\n",
    "    tokenizer_image_token(prompt, tokenizer, IMAGE_TOKEN_INDEX, return_tensors=\"pt\")\n",
    "    .unsqueeze(0)\n",
    "    .cuda()\n",
    ")"
   ]
  },
  {
   "cell_type": "code",
   "execution_count": null,
   "metadata": {},
   "outputs": [
    {
     "name": "stderr",
     "output_type": "stream",
     "text": [
      "/home/mjcho/micromamba/envs/llava/lib/python3.10/site-packages/transformers/generation/configuration_utils.py:392: UserWarning: `do_sample` is set to `False`. However, `temperature` is set to `0` -- this flag is only used in sample-based generation modes. You should set `do_sample=True` or unset `temperature`.\n",
      "  warnings.warn(\n",
      "/home/mjcho/micromamba/envs/llava/lib/python3.10/site-packages/transformers/generation/configuration_utils.py:397: UserWarning: `do_sample` is set to `False`. However, `top_p` is set to `None` -- this flag is only used in sample-based generation modes. You should set `do_sample=True` or unset `top_p`.\n",
      "  warnings.warn(\n"
     ]
    },
    {
     "name": "stdout",
     "output_type": "stream",
     "text": [
      "2\n"
     ]
    }
   ],
   "source": [
    "with torch.inference_mode():\n",
    "    output_ids = model.generate(\n",
    "        input_ids,\n",
    "        images=images_tensor,\n",
    "        image_sizes=image_sizes,\n",
    "        do_sample=True if temperature > 0 else False,\n",
    "        temperature=temperature,\n",
    "        top_p=top_p,\n",
    "        num_beams=num_beams,\n",
    "        max_new_tokens=max_new_tokens,\n",
    "        use_cache=False,\n",
    "    )\n",
    "\n",
    "outputs = tokenizer.batch_decode(output_ids, skip_special_tokens=True)[0].strip()\n",
    "print(outputs)"
   ]
  },
  {
   "cell_type": "code",
   "execution_count": null,
   "metadata": {},
   "outputs": [
    {
     "name": "stdout",
     "output_type": "stream",
     "text": [
      "2\n"
     ]
    }
   ],
   "source": [
    "outputs = tokenizer.batch_decode(output_ids, skip_special_tokens=True)[0]\n",
    "print(outputs)"
   ]
  },
  {
   "cell_type": "markdown",
   "metadata": {},
   "source": [
    "### Iterate over image files"
   ]
  },
  {
   "cell_type": "code",
   "execution_count": null,
   "metadata": {},
   "outputs": [],
   "source": [
    "conv = conv_templates[conv_mode].copy()\n",
    "conv.append_message(conv.roles[0], qs)\n",
    "conv.append_message(conv.roles[1], None)\n",
    "prompt = conv.get_prompt()\n",
    "\n",
    "input_ids = (\n",
    "    tokenizer_image_token(prompt, tokenizer, IMAGE_TOKEN_INDEX, return_tensors=\"pt\")\n",
    "    .unsqueeze(0)\n",
    "    .cuda()\n",
    ")"
   ]
  },
  {
   "cell_type": "code",
   "execution_count": null,
   "metadata": {},
   "outputs": [
    {
     "name": "stderr",
     "output_type": "stream",
     "text": [
      "/var/tmp/ipykernel_3328/1923642204.py:2: DtypeWarning: Columns (771,772,773,774,775,776,779,780,781,782,789,790,791,792,795,797,799,801,802) have mixed types. Specify dtype option on import or set low_memory=False.\n",
      "  dat = pd.read_csv('/home/mjcho/Food_Identification/data/llava-food_drink_brand.csv')\n"
     ]
    }
   ],
   "source": [
    "# load data\n",
    "dat = pd.read_csv('/home/mjcho/Food_Identification/data/llava-food_drink_brand.csv')\n",
    "# image file is '/home/mjcho/Food_Identification/llava-food_drink_brand/' + dat.image_id, store in a list\n",
    "image_files = ['/home/mjcho/Food_Identification/llava-food_drink_brand/' + x for x in dat.image_id]\n",
    "# print(image_files)\n",
    "# images = load_images(image_files)\n"
   ]
  },
  {
   "cell_type": "code",
   "execution_count": null,
   "metadata": {},
   "outputs": [
    {
     "data": {
      "text/plain": [
       "1733"
      ]
     },
     "execution_count": 67,
     "metadata": {},
     "output_type": "execute_result"
    }
   ],
   "source": [
    "len(image_files)"
   ]
  },
  {
   "cell_type": "code",
   "execution_count": null,
   "metadata": {},
   "outputs": [
    {
     "data": {
      "text/plain": [
       "'/home/mjcho/Food_Identification/llava-food_drink_brand/family_1002321_brynnalana98@gmail.com20210513030910332.jpg'"
      ]
     },
     "execution_count": 68,
     "metadata": {},
     "output_type": "execute_result"
    }
   ],
   "source": [
    "image_files[0]"
   ]
  },
  {
   "cell_type": "code",
   "execution_count": null,
   "metadata": {},
   "outputs": [
    {
     "name": "stderr",
     "output_type": "stream",
     "text": [
      "  0%|          | 0/1733 [00:00<?, ?it/s]"
     ]
    },
    {
     "name": "stderr",
     "output_type": "stream",
     "text": [
      "/home/mjcho/micromamba/envs/llava/lib/python3.10/site-packages/transformers/generation/configuration_utils.py:392: UserWarning: `do_sample` is set to `False`. However, `temperature` is set to `0` -- this flag is only used in sample-based generation modes. You should set `do_sample=True` or unset `temperature`.\n",
      "  warnings.warn(\n",
      "/home/mjcho/micromamba/envs/llava/lib/python3.10/site-packages/transformers/generation/configuration_utils.py:397: UserWarning: `do_sample` is set to `False`. However, `top_p` is set to `None` -- this flag is only used in sample-based generation modes. You should set `do_sample=True` or unset `top_p`.\n",
      "  warnings.warn(\n",
      "100%|██████████| 1733/1733 [09:03<00:00,  3.19it/s]\n"
     ]
    }
   ],
   "source": [
    "outputs = []\n",
    "for image_file in tqdm(image_files):\n",
    "    images = [load_image(image_file)]\n",
    "    image_sizes = [x.size for x in images]\n",
    "    images_tensor = process_images(\n",
    "        images,\n",
    "        image_processor,\n",
    "        model.config\n",
    "    ).to(model.device, dtype=torch.float16)\n",
    "\n",
    "\n",
    "    with torch.inference_mode():\n",
    "        output_ids = model.generate(\n",
    "            input_ids,\n",
    "            images=images_tensor,\n",
    "            image_sizes=image_sizes,\n",
    "            do_sample=True if temperature > 0 else False,\n",
    "            temperature=temperature,\n",
    "            top_p=top_p,\n",
    "            num_beams=num_beams,\n",
    "            max_new_tokens=max_new_tokens,\n",
    "            use_cache=False,\n",
    "        )\n",
    "\n",
    "    output = tokenizer.batch_decode(output_ids, skip_special_tokens=True)[0]\n",
    "    outputs.append(output)"
   ]
  },
  {
   "cell_type": "code",
   "execution_count": null,
   "metadata": {},
   "outputs": [],
   "source": [
    "# convert outputs to int64 then add to dat as llava_food_drink_brand\n",
    "dat['llava_food_drink_brand'] = outputs\n",
    "dat['llava_food_drink_brand'] = dat['llava_food_drink_brand'].astype(int)\n",
    "\n",
    "dat.to_csv('/home/mjcho/Food_Identification/data/llava-food_drink_brand.csv', index=False)"
   ]
  },
  {
   "cell_type": "code",
   "execution_count": null,
   "metadata": {},
   "outputs": [
    {
     "data": {
      "text/html": [
       "<div>\n",
       "<style scoped>\n",
       "    .dataframe tbody tr th:only-of-type {\n",
       "        vertical-align: middle;\n",
       "    }\n",
       "\n",
       "    .dataframe tbody tr th {\n",
       "        vertical-align: top;\n",
       "    }\n",
       "\n",
       "    .dataframe thead th {\n",
       "        text-align: right;\n",
       "    }\n",
       "</style>\n",
       "<table border=\"1\" class=\"dataframe\">\n",
       "  <thead>\n",
       "    <tr style=\"text-align: right;\">\n",
       "      <th></th>\n",
       "      <th>image_id</th>\n",
       "      <th>feature1</th>\n",
       "      <th>feature2</th>\n",
       "      <th>feature3</th>\n",
       "      <th>feature4</th>\n",
       "      <th>feature5</th>\n",
       "      <th>feature6</th>\n",
       "      <th>feature7</th>\n",
       "      <th>feature8</th>\n",
       "      <th>feature9</th>\n",
       "      <th>...</th>\n",
       "      <th>brand_i</th>\n",
       "      <th>brand</th>\n",
       "      <th>pid</th>\n",
       "      <th>image_link</th>\n",
       "      <th>date</th>\n",
       "      <th>time</th>\n",
       "      <th>text</th>\n",
       "      <th>food_drink_brand</th>\n",
       "      <th>img_exists</th>\n",
       "      <th>llava_food_drink_brand</th>\n",
       "    </tr>\n",
       "  </thead>\n",
       "  <tbody>\n",
       "    <tr>\n",
       "      <th>0</th>\n",
       "      <td>family_1002321_brynnalana98@gmail.com202105130...</td>\n",
       "      <td>-0.5850</td>\n",
       "      <td>-0.3547</td>\n",
       "      <td>0.01146</td>\n",
       "      <td>-0.3430</td>\n",
       "      <td>-0.2980</td>\n",
       "      <td>0.1302</td>\n",
       "      <td>0.21350</td>\n",
       "      <td>0.2710</td>\n",
       "      <td>0.03014</td>\n",
       "      <td>...</td>\n",
       "      <td>1</td>\n",
       "      <td>1</td>\n",
       "      <td>family_1002321_brynnalana98@gmail.com</td>\n",
       "      <td>hs-nero-phi-reeves-haitech-appspot-com-family/...</td>\n",
       "      <td>2021-05-13</td>\n",
       "      <td>03:09:10.332000</td>\n",
       "      <td>@ $ 5 $ 8.09 Following For You 197K white wome...</td>\n",
       "      <td>2</td>\n",
       "      <td>True</td>\n",
       "      <td>1</td>\n",
       "    </tr>\n",
       "    <tr>\n",
       "      <th>1</th>\n",
       "      <td>family_1002321_brynnalana98@gmail.com202105130...</td>\n",
       "      <td>-0.1741</td>\n",
       "      <td>-0.2370</td>\n",
       "      <td>-0.13720</td>\n",
       "      <td>0.3206</td>\n",
       "      <td>-0.3950</td>\n",
       "      <td>0.1630</td>\n",
       "      <td>0.17860</td>\n",
       "      <td>0.4438</td>\n",
       "      <td>0.20970</td>\n",
       "      <td>...</td>\n",
       "      <td>1</td>\n",
       "      <td>1</td>\n",
       "      <td>family_1002321_brynnalana98@gmail.com</td>\n",
       "      <td>hs-nero-phi-reeves-haitech-appspot-com-family/...</td>\n",
       "      <td>2021-05-13</td>\n",
       "      <td>03:09:15.333000</td>\n",
       "      <td>@ $ 0 8.09 Following For You 197 white women a...</td>\n",
       "      <td>2</td>\n",
       "      <td>True</td>\n",
       "      <td>0</td>\n",
       "    </tr>\n",
       "    <tr>\n",
       "      <th>2</th>\n",
       "      <td>family_1002321_brynnalana98@gmail.com202105130...</td>\n",
       "      <td>-0.2274</td>\n",
       "      <td>-0.4010</td>\n",
       "      <td>0.05176</td>\n",
       "      <td>0.1183</td>\n",
       "      <td>-0.3530</td>\n",
       "      <td>0.2588</td>\n",
       "      <td>-0.05957</td>\n",
       "      <td>0.4880</td>\n",
       "      <td>0.36500</td>\n",
       "      <td>...</td>\n",
       "      <td>1</td>\n",
       "      <td>1</td>\n",
       "      <td>family_1002321_brynnalana98@gmail.com</td>\n",
       "      <td>hs-nero-phi-reeves-haitech-appspot-com-family/...</td>\n",
       "      <td>2021-05-13</td>\n",
       "      <td>03:09:20.335000</td>\n",
       "      <td>@ $ 0 8.09 Following For You 7 197K white wome...</td>\n",
       "      <td>2</td>\n",
       "      <td>True</td>\n",
       "      <td>2</td>\n",
       "    </tr>\n",
       "    <tr>\n",
       "      <th>3</th>\n",
       "      <td>family_1002321_brynnalana98@gmail.com202105130...</td>\n",
       "      <td>-0.2870</td>\n",
       "      <td>-0.5645</td>\n",
       "      <td>0.40060</td>\n",
       "      <td>-0.1080</td>\n",
       "      <td>-0.8384</td>\n",
       "      <td>0.1603</td>\n",
       "      <td>0.01624</td>\n",
       "      <td>0.5780</td>\n",
       "      <td>0.33980</td>\n",
       "      <td>...</td>\n",
       "      <td>1</td>\n",
       "      <td>1</td>\n",
       "      <td>family_1002321_brynnalana98@gmail.com</td>\n",
       "      <td>hs-nero-phi-reeves-haitech-appspot-com-family/...</td>\n",
       "      <td>2021-05-13</td>\n",
       "      <td>03:09:25.337000</td>\n",
       "      <td>8.09 For Following You 1 [ 19,7k white women a...</td>\n",
       "      <td>2</td>\n",
       "      <td>True</td>\n",
       "      <td>2</td>\n",
       "    </tr>\n",
       "    <tr>\n",
       "      <th>4</th>\n",
       "      <td>family_1002321_brynnalana98@gmail.com202105130...</td>\n",
       "      <td>-0.5230</td>\n",
       "      <td>-0.8960</td>\n",
       "      <td>0.01814</td>\n",
       "      <td>0.1549</td>\n",
       "      <td>-0.7550</td>\n",
       "      <td>0.2769</td>\n",
       "      <td>0.02353</td>\n",
       "      <td>0.5884</td>\n",
       "      <td>0.29100</td>\n",
       "      <td>...</td>\n",
       "      <td>1</td>\n",
       "      <td>1</td>\n",
       "      <td>family_1002321_brynnalana98@gmail.com</td>\n",
       "      <td>hs-nero-phi-reeves-haitech-appspot-com-family/...</td>\n",
       "      <td>2021-05-13</td>\n",
       "      <td>03:09:30.338000</td>\n",
       "      <td>@ $ 8.09 For Following You 197K white women ar...</td>\n",
       "      <td>2</td>\n",
       "      <td>True</td>\n",
       "      <td>2</td>\n",
       "    </tr>\n",
       "  </tbody>\n",
       "</table>\n",
       "<p>5 rows × 833 columns</p>\n",
       "</div>"
      ],
      "text/plain": [
       "                                            image_id  feature1  feature2  \\\n",
       "0  family_1002321_brynnalana98@gmail.com202105130...   -0.5850   -0.3547   \n",
       "1  family_1002321_brynnalana98@gmail.com202105130...   -0.1741   -0.2370   \n",
       "2  family_1002321_brynnalana98@gmail.com202105130...   -0.2274   -0.4010   \n",
       "3  family_1002321_brynnalana98@gmail.com202105130...   -0.2870   -0.5645   \n",
       "4  family_1002321_brynnalana98@gmail.com202105130...   -0.5230   -0.8960   \n",
       "\n",
       "   feature3  feature4  feature5  feature6  feature7  feature8  feature9  ...  \\\n",
       "0   0.01146   -0.3430   -0.2980    0.1302   0.21350    0.2710   0.03014  ...   \n",
       "1  -0.13720    0.3206   -0.3950    0.1630   0.17860    0.4438   0.20970  ...   \n",
       "2   0.05176    0.1183   -0.3530    0.2588  -0.05957    0.4880   0.36500  ...   \n",
       "3   0.40060   -0.1080   -0.8384    0.1603   0.01624    0.5780   0.33980  ...   \n",
       "4   0.01814    0.1549   -0.7550    0.2769   0.02353    0.5884   0.29100  ...   \n",
       "\n",
       "   brand_i  brand                                    pid  \\\n",
       "0        1      1  family_1002321_brynnalana98@gmail.com   \n",
       "1        1      1  family_1002321_brynnalana98@gmail.com   \n",
       "2        1      1  family_1002321_brynnalana98@gmail.com   \n",
       "3        1      1  family_1002321_brynnalana98@gmail.com   \n",
       "4        1      1  family_1002321_brynnalana98@gmail.com   \n",
       "\n",
       "                                          image_link        date  \\\n",
       "0  hs-nero-phi-reeves-haitech-appspot-com-family/...  2021-05-13   \n",
       "1  hs-nero-phi-reeves-haitech-appspot-com-family/...  2021-05-13   \n",
       "2  hs-nero-phi-reeves-haitech-appspot-com-family/...  2021-05-13   \n",
       "3  hs-nero-phi-reeves-haitech-appspot-com-family/...  2021-05-13   \n",
       "4  hs-nero-phi-reeves-haitech-appspot-com-family/...  2021-05-13   \n",
       "\n",
       "              time                                               text  \\\n",
       "0  03:09:10.332000  @ $ 5 $ 8.09 Following For You 197K white wome...   \n",
       "1  03:09:15.333000  @ $ 0 8.09 Following For You 197 white women a...   \n",
       "2  03:09:20.335000  @ $ 0 8.09 Following For You 7 197K white wome...   \n",
       "3  03:09:25.337000  8.09 For Following You 1 [ 19,7k white women a...   \n",
       "4  03:09:30.338000  @ $ 8.09 For Following You 197K white women ar...   \n",
       "\n",
       "   food_drink_brand  img_exists  llava_food_drink_brand  \n",
       "0                 2        True                       1  \n",
       "1                 2        True                       0  \n",
       "2                 2        True                       2  \n",
       "3                 2        True                       2  \n",
       "4                 2        True                       2  \n",
       "\n",
       "[5 rows x 833 columns]"
      ]
     },
     "execution_count": 71,
     "metadata": {},
     "output_type": "execute_result"
    }
   ],
   "source": [
    "dat.head()"
   ]
  },
  {
   "cell_type": "markdown",
   "metadata": {},
   "source": [
    "### Evaluate performance"
   ]
  },
  {
   "cell_type": "code",
   "execution_count": null,
   "metadata": {},
   "outputs": [],
   "source": [
    "from sklearn.metrics import accuracy_score, classification_report, confusion_matrix, cohen_kappa_score\n",
    "from sklearn.model_selection import cross_val_score\n",
    "\n",
    "import numpy as np\n",
    "import pandas as pd\n",
    "import matplotlib.pyplot as plt\n",
    "import seaborn as sns\n",
    "\n",
    "\n",
    "def show_performance_metric(y_test, y_pred):\n",
    "    accuracy = accuracy_score(y_test, y_pred)\n",
    "    report = classification_report(y_test, y_pred)\n",
    "    # printing metrics\n",
    "    print(f\"Accuracy: {accuracy}\")\n",
    "    print(\"Classification Report:\\n\", report)\n",
    "\n",
    "    ## Plot confusion matrix\n",
    "    classes = np.unique(y_test)\n",
    "    cm = confusion_matrix(y_test, y_pred)\n",
    "    print(cm)\n",
    "    # fig, ax = plt.subplots()\n",
    "    # sns.heatmap(cm, annot=True, fmt='d', ax=ax, cmap=plt.cm.Blues, \n",
    "    #             cbar=False)\n",
    "    # ax.set(xlabel=\"Pred\", ylabel=\"True\", xticklabels=classes, \n",
    "    #     yticklabels=classes, title=\"Confusion matrix\")\n",
    "    # plt.yticks(rotation=0)"
   ]
  },
  {
   "cell_type": "code",
   "execution_count": null,
   "metadata": {},
   "outputs": [
    {
     "name": "stdout",
     "output_type": "stream",
     "text": [
      "Accuracy: 0.8545874206578188\n",
      "Classification Report:\n",
      "               precision    recall  f1-score   support\n",
      "\n",
      "           0       0.88      0.97      0.93      1430\n",
      "           1       0.58      0.25      0.35       221\n",
      "           2       0.57      0.41      0.48        82\n",
      "\n",
      "    accuracy                           0.85      1733\n",
      "   macro avg       0.68      0.55      0.58      1733\n",
      "weighted avg       0.83      0.85      0.83      1733\n",
      "\n",
      "[[1392   28   10]\n",
      " [ 150   55   16]\n",
      " [  36   12   34]]\n",
      "Accuracy: 0.8707443739180611\n",
      "Classification Report:\n",
      "               precision    recall  f1-score   support\n",
      "\n",
      "           0       0.88      0.97      0.93      1430\n",
      "           1       0.75      0.39      0.51       303\n",
      "\n",
      "    accuracy                           0.87      1733\n",
      "   macro avg       0.82      0.68      0.72      1733\n",
      "weighted avg       0.86      0.87      0.85      1733\n",
      "\n",
      "[[1392   38]\n",
      " [ 186  117]]\n"
     ]
    },
    {
     "name": "stderr",
     "output_type": "stream",
     "text": [
      "/var/tmp/ipykernel_133464/2113670144.py:9: DtypeWarning: Columns (771,772,773,774,775,776,779,780,781,782,789,790,791,792,795,797,799,801,802) have mixed types. Specify dtype option on import or set low_memory=False.\n",
      "  dat = pd.read_csv('/home/mjcho/Food_Identification/data/llava-food_drink_brand.csv')\n"
     ]
    }
   ],
   "source": [
    "# # add outputs to dat as llava_food_drink_brand\n",
    "# # dat['llava_food_drink_brand'] = outputs\n",
    "# # count values in dat.food_drink_brand\n",
    "# dat.food_drink_brand.value_counts()\n",
    "# # count values in dat.llava_food_drink_brand\n",
    "# dat.llava_food_drink_brand.value_counts()\n",
    "\n",
    "# read the data\n",
    "dat = pd.read_csv('/home/mjcho/Food_Identification/data/llava-food_drink_brand.csv')\n",
    "\n",
    "# code llava_food_drink_brand to llava_food_or_drink, where 0 is no food or drink, 1 is food or drink\n",
    "dat['llava_food_or_drink'] = 0\n",
    "dat.loc[dat.llava_food_drink_brand == 1, 'llava_food_or_drink'] = 1\n",
    "dat.loc[dat.llava_food_drink_brand == 2, 'llava_food_or_drink'] = 1\n",
    "\n",
    "# compute performance\n",
    "show_performance_metric(dat.food_drink_brand, dat.llava_food_drink_brand)\n",
    "show_performance_metric(dat.food_or_drink, dat.llava_food_or_drink)\n"
   ]
  },
  {
   "cell_type": "code",
   "execution_count": null,
   "metadata": {},
   "outputs": [
    {
     "name": "stdout",
     "output_type": "stream",
     "text": [
      "Kappa: 0.44526882580910687\n",
      "Kappa: 0.3941517741948909\n"
     ]
    }
   ],
   "source": [
    "# compute kappa for food_or_drink\n",
    "kappa = cohen_kappa_score(dat.food_or_drink, dat.llava_food_or_drink)\n",
    "print(f\"Kappa: {kappa}\")\n",
    "kappa_b = cohen_kappa_score(dat.food_drink_brand, dat.llava_food_drink_brand)\n",
    "print(f\"Kappa: {kappa_b}\")\n"
   ]
  },
  {
   "cell_type": "code",
   "execution_count": null,
   "metadata": {},
   "outputs": [
    {
     "name": "stderr",
     "output_type": "stream",
     "text": [
      "/var/tmp/ipykernel_3328/2495959385.py:4: DtypeWarning: Columns (771,772,773,774,775,776,779,780,781,782,789,790,791,792,795,797,799,801,802) have mixed types. Specify dtype option on import or set low_memory=False.\n",
      "  dat = pd.read_csv('/home/mjcho/Food_Identification/data/llava-food_drink_brand.csv')\n"
     ]
    },
    {
     "data": {
      "text/html": [
       "<div>\n",
       "<style scoped>\n",
       "    .dataframe tbody tr th:only-of-type {\n",
       "        vertical-align: middle;\n",
       "    }\n",
       "\n",
       "    .dataframe tbody tr th {\n",
       "        vertical-align: top;\n",
       "    }\n",
       "\n",
       "    .dataframe thead th {\n",
       "        text-align: right;\n",
       "    }\n",
       "</style>\n",
       "<table border=\"1\" class=\"dataframe\">\n",
       "  <thead>\n",
       "    <tr style=\"text-align: right;\">\n",
       "      <th></th>\n",
       "      <th>image_id</th>\n",
       "      <th>food_drink_brand</th>\n",
       "      <th>llava_food_drink_brand</th>\n",
       "    </tr>\n",
       "  </thead>\n",
       "  <tbody>\n",
       "    <tr>\n",
       "      <th>0</th>\n",
       "      <td>family_1002321_brynnalana98@gmail.com202105130...</td>\n",
       "      <td>2</td>\n",
       "      <td>1</td>\n",
       "    </tr>\n",
       "    <tr>\n",
       "      <th>1</th>\n",
       "      <td>family_1002321_brynnalana98@gmail.com202105130...</td>\n",
       "      <td>2</td>\n",
       "      <td>0</td>\n",
       "    </tr>\n",
       "    <tr>\n",
       "      <th>5</th>\n",
       "      <td>family_1002321_brynnalana98@gmail.com202105130...</td>\n",
       "      <td>2</td>\n",
       "      <td>0</td>\n",
       "    </tr>\n",
       "    <tr>\n",
       "      <th>6</th>\n",
       "      <td>family_1002321_brynnalana98@gmail.com202105130...</td>\n",
       "      <td>2</td>\n",
       "      <td>0</td>\n",
       "    </tr>\n",
       "    <tr>\n",
       "      <th>7</th>\n",
       "      <td>family_1002321_brynnalana98@gmail.com202105130...</td>\n",
       "      <td>2</td>\n",
       "      <td>1</td>\n",
       "    </tr>\n",
       "    <tr>\n",
       "      <th>8</th>\n",
       "      <td>family_1002321_brynnalana98@gmail.com202105130...</td>\n",
       "      <td>2</td>\n",
       "      <td>1</td>\n",
       "    </tr>\n",
       "    <tr>\n",
       "      <th>9</th>\n",
       "      <td>family_1002321_brynnalana98@gmail.com202105130...</td>\n",
       "      <td>2</td>\n",
       "      <td>1</td>\n",
       "    </tr>\n",
       "    <tr>\n",
       "      <th>12</th>\n",
       "      <td>family_1002321_brynnalana98@gmail.com202105130...</td>\n",
       "      <td>2</td>\n",
       "      <td>0</td>\n",
       "    </tr>\n",
       "    <tr>\n",
       "      <th>13</th>\n",
       "      <td>family_1002321_brynnalana98@gmail.com202105130...</td>\n",
       "      <td>1</td>\n",
       "      <td>0</td>\n",
       "    </tr>\n",
       "    <tr>\n",
       "      <th>14</th>\n",
       "      <td>family_1002321_brynnalana98@gmail.com202105130...</td>\n",
       "      <td>1</td>\n",
       "      <td>0</td>\n",
       "    </tr>\n",
       "  </tbody>\n",
       "</table>\n",
       "</div>"
      ],
      "text/plain": [
       "                                             image_id  food_drink_brand  \\\n",
       "0   family_1002321_brynnalana98@gmail.com202105130...                 2   \n",
       "1   family_1002321_brynnalana98@gmail.com202105130...                 2   \n",
       "5   family_1002321_brynnalana98@gmail.com202105130...                 2   \n",
       "6   family_1002321_brynnalana98@gmail.com202105130...                 2   \n",
       "7   family_1002321_brynnalana98@gmail.com202105130...                 2   \n",
       "8   family_1002321_brynnalana98@gmail.com202105130...                 2   \n",
       "9   family_1002321_brynnalana98@gmail.com202105130...                 2   \n",
       "12  family_1002321_brynnalana98@gmail.com202105130...                 2   \n",
       "13  family_1002321_brynnalana98@gmail.com202105130...                 1   \n",
       "14  family_1002321_brynnalana98@gmail.com202105130...                 1   \n",
       "\n",
       "    llava_food_drink_brand  \n",
       "0                        1  \n",
       "1                        0  \n",
       "5                        0  \n",
       "6                        0  \n",
       "7                        1  \n",
       "8                        1  \n",
       "9                        1  \n",
       "12                       0  \n",
       "13                       0  \n",
       "14                       0  "
      ]
     },
     "execution_count": 74,
     "metadata": {},
     "output_type": "execute_result"
    }
   ],
   "source": [
    "import pandas as pd\n",
    "\n",
    "# read the data\n",
    "dat = pd.read_csv('/home/mjcho/Food_Identification/data/llava-food_drink_brand.csv')\n",
    "\n",
    "# get the image_id of the images that are misclassified\n",
    "misclassified = dat[dat.food_drink_brand != dat.llava_food_drink_brand]\n",
    "misclassified[['image_id', 'food_drink_brand', 'llava_food_drink_brand']][:10]"
   ]
  },
  {
   "cell_type": "code",
   "execution_count": null,
   "metadata": {},
   "outputs": [
    {
     "data": {
      "image/png": "[encoded data removed]",
      "text/plain": [
       "<Figure size 640x480 with 1 Axes>"
      ]
     },
     "metadata": {},
     "output_type": "display_data"
    }
   ],
   "source": [
    "import matplotlib.pyplot as plt\n",
    "import matplotlib.image as mpimg\n",
    "\n",
    "\n",
    "# plot the first image that are misclassified\n",
    "img = mpimg.imread(f'/home/mjcho/Food_Identification/labeled_imgs_resized_0.5/{misclassified.iloc[3].image_id}')\n",
    "imgplot = plt.imshow(img)\n"
   ]
  },
  {
   "cell_type": "code",
   "execution_count": null,
   "metadata": {},
   "outputs": [
    {
     "name": "stdout",
     "output_type": "stream",
     "text": [
      "2\n"
     ]
    }
   ],
   "source": [
    "images = [load_image(f'/home/mjcho/Food_Identification/labeled_imgs_resized_0.5/{misclassified.iloc[3].image_id}')]\n",
    "image_sizes = [x.size for x in images]\n",
    "images_tensor = process_images(\n",
    "    images,\n",
    "    image_processor,\n",
    "    model.config\n",
    ").to(model.device, dtype=torch.float16)\n",
    "\n",
    "\n",
    "with torch.inference_mode():\n",
    "    output_ids = model.generate(\n",
    "        input_ids,\n",
    "        images=images_tensor,\n",
    "        image_sizes=image_sizes,\n",
    "        do_sample=True if temperature > 0 else False,\n",
    "        temperature=temperature,\n",
    "        top_p=top_p,\n",
    "        num_beams=num_beams,\n",
    "        max_new_tokens=max_new_tokens,\n",
    "        use_cache=False,\n",
    "    )\n",
    "\n",
    "output = tokenizer.batch_decode(output_ids, skip_special_tokens=True)[0]\n",
    "print(output)"
   ]
  },
  {
   "cell_type": "markdown",
   "metadata": {},
   "source": [
    "## LLaVA: fine-tuning\n",
    "\n",
    "To setup env, see:\n",
    "https://github.com/haotian-liu/LLaVA/issues/1101#issuecomment-1933697654"
   ]
  },
  {
   "cell_type": "code",
   "execution_count": 1,
   "metadata": {},
   "outputs": [
    {
     "name": "stderr",
     "output_type": "stream",
     "text": [
      "/home/mjcho/micromamba/envs/llava/lib/python3.10/site-packages/tqdm/auto.py:21: TqdmWarning: IProgress not found. Please update jupyter and ipywidgets. See https://ipywidgets.readthedocs.io/en/stable/user_install.html\n",
      "  from .autonotebook import tqdm as notebook_tqdm\n"
     ]
    },
    {
     "name": "stdout",
     "output_type": "stream",
     "text": [
      "[2024-03-21 03:52:17,996] [INFO] [real_accelerator.py:161:get_accelerator] Setting ds_accelerator to cuda (auto detect)\n"
     ]
    }
   ],
   "source": [
    "%load_ext autoreload\n",
    "%autoreload 2\n",
    "\n",
    "import pandas as pd\n",
    "import os\n",
    "import shutil\n",
    "\n",
    "import torch\n",
    "import re \n",
    "from pathlib import Path\n",
    "from PIL import Image\n",
    "from io import BytesIO\n",
    "import requests\n",
    "from tqdm import tqdm\n",
    "\n",
    "from llava.model.builder import load_pretrained_model\n",
    "from llava.mm_utils import get_model_name_from_path\n",
    "from llava.eval.run_llava import eval_model\n",
    "from llava.utils import disable_torch_init\n",
    "from llava.conversation import conv_templates, SeparatorStyle\n",
    "from llava.mm_utils import (\n",
    "    process_images,\n",
    "    tokenizer_image_token,\n",
    "    get_model_name_from_path,\n",
    ")\n",
    "\n",
    "from llava.constants import (\n",
    "    IMAGE_TOKEN_INDEX,\n",
    "    DEFAULT_IMAGE_TOKEN,\n",
    "    DEFAULT_IM_START_TOKEN,\n",
    "    DEFAULT_IM_END_TOKEN,\n",
    "    IMAGE_PLACEHOLDER,\n",
    ")"
   ]
  },
  {
   "cell_type": "markdown",
   "metadata": {},
   "source": [
    "### Create dataset for tuning\n",
    "Divide the labeled dataset "
   ]
  },
  {
   "cell_type": "code",
   "execution_count": 2,
   "metadata": {},
   "outputs": [
    {
     "name": "stderr",
     "output_type": "stream",
     "text": [
      "/var/tmp/ipykernel_63446/2663000194.py:2: DtypeWarning: Columns (771,772,773,774,775,776,778,779,780,781,782,783,784,789,790,791,792,795,797,799,801,802) have mixed types. Specify dtype option on import or set low_memory=False.\n",
      "  label_dat = pd.read_csv('/home/mjcho/Food_Identification/data/label_features_ocr.csv')\n"
     ]
    },
    {
     "name": "stdout",
     "output_type": "stream",
     "text": [
      "food_drink_brand\n",
      "0    22965\n",
      "1      221\n",
      "2       82\n",
      "Name: count, dtype: int64\n"
     ]
    }
   ],
   "source": [
    "# load the data\n",
    "label_dat = pd.read_csv('/home/mjcho/Food_Identification/data/label_features_ocr.csv')\n",
    "\n",
    "# code food_drink_brand\n",
    "label_dat['food_drink_brand'] = 0\n",
    "label_dat.loc[(label_dat.food_or_drink == 1) & (label_dat.brand == 0), 'food_drink_brand'] = 1\n",
    "label_dat.loc[(label_dat.food_or_drink == 1) & (label_dat.brand == 1), 'food_drink_brand'] = 2\n",
    "\n",
    "# print counts\n",
    "print(label_dat.food_drink_brand.value_counts())"
   ]
  },
  {
   "cell_type": "code",
   "execution_count": 19,
   "metadata": {},
   "outputs": [
    {
     "name": "stdout",
     "output_type": "stream",
     "text": [
      "(1818, 831)\n",
      "img_exists\n",
      "True     1733\n",
      "False      85\n",
      "Name: count, dtype: int64\n",
      "food_drink_brand\n",
      "0    1144\n",
      "1     177\n",
      "2      65\n",
      "Name: count, dtype: int64\n",
      "food_drink_brand\n",
      "0    286\n",
      "1     44\n",
      "2     17\n",
      "Name: count, dtype: int64\n"
     ]
    }
   ],
   "source": [
    "# Compile a dataframe contains 70% the rows where food_drink_brand is 1 or 2\n",
    "y_dat = label_dat[label_dat.food_drink_brand != 0]\n",
    "\n",
    "# Randomly select 9 times the number of rows of y_dat from label_dat where food_drink_brand is 0\n",
    "n = y_dat.shape[0]\n",
    "n_rows = 5 * n\n",
    "# select rows from label_dat where food_drink_brand is 0\n",
    "n_dat = label_dat[label_dat.food_drink_brand == 0].sample(n=n_rows, random_state=370)\n",
    "\n",
    "# Combine y_dat and n_dat\n",
    "dat = pd.concat([y_dat, n_dat], axis=0)\n",
    "dat.reset_index(drop=True, inplace=True)\n",
    "print(dat.shape)\n",
    "\n",
    "# check if all image_ids in dat exist in the folder /home/mjcho/Food_Identification/labeled_imgs_resized_0.5\n",
    "img_folder = '/home/mjcho/Food_Identification/labeled_imgs_resized_0.5'\n",
    "img_files = os.listdir(img_folder)\n",
    "dat['img_exists'] = dat.image_id.isin(img_files)\n",
    "print(dat.img_exists.value_counts())\n",
    "\n",
    "# subset dat to only include rows where img_exists is True\n",
    "dat = dat[dat.img_exists]\n",
    "\n",
    "# Split dat into train (for fine-tuning) and test, 50% each, stratify by food_drink_brand\n",
    "from sklearn.model_selection import train_test_split\n",
    "target = dat['food_drink_brand']\n",
    "dat_train, dat_test = train_test_split(dat, test_size=0.2, stratify=target, random_state=370)\n",
    "\n",
    "print(dat_train.food_drink_brand.value_counts())\n",
    "print(dat_test.food_drink_brand.value_counts())\n"
   ]
  },
  {
   "cell_type": "code",
   "execution_count": 20,
   "metadata": {},
   "outputs": [
    {
     "data": {
      "text/plain": [
       "1728    family_201911_naalafigueras@gmail.com202105211...\n",
       "1361    family_1004381_dumdumdurr1@gmail.com2021051517...\n",
       "707     family_200211_harrislore@hotmail.com2021061715...\n",
       "219     w5_1292_wahidsharon@gmail.com20200722235224217...\n",
       "800     w5_5125520792_bjohnson121@yahoo.com20210109080...\n",
       "1817     w5_8107_tko10tko6@gmail.com20200626181809381.jpg\n",
       "1271     w5_4406_joeleal10@gmail.com20201230080529225.jpg\n",
       "464     family_202051_saritavasa@gmail.com202106182348...\n",
       "1197    family_100654_varunner7@aol.com202106281432137...\n",
       "314     w5_8905_chinochichingdinero@gmail.com202011301...\n",
       "Name: image_id, dtype: object"
      ]
     },
     "execution_count": 20,
     "metadata": {},
     "output_type": "execute_result"
    }
   ],
   "source": [
    "dat_train.image_id[:10]"
   ]
  },
  {
   "cell_type": "markdown",
   "metadata": {},
   "source": [
    "Convert to json format for LLaVA"
   ]
  },
  {
   "cell_type": "code",
   "execution_count": 21,
   "metadata": {},
   "outputs": [],
   "source": [
    "\"\"\"\n",
    "Convert dat_train to json format:\n",
    "[\n",
    "  {\n",
    "    \"id\": f\"{image_id}\",\n",
    "    \"image\": f\"{image_id}\",\n",
    "    \"conversations\": [\n",
    "      {\n",
    "        \"from\": \"human\",\n",
    "        \"value\": \"<image>\\n\"Please analyze the content of the provided image to determine if it contains any food or drink items. If you find no food or drink items in either text or image format, reply with 0. If you find food or drink items that are not branded, reply with 1. If you find food or drink items that are branded, reply with 2.\" \n",
    "      },\n",
    "      {\n",
    "        \"from\": \"gpt\",\n",
    "        \"value\": f\"{food_drink_brand}\"\n",
    "      },\n",
    "    ]\n",
    "  },\n",
    "  ...\n",
    "]\n",
    "\"\"\"\n",
    "\n",
    "import json\n",
    "\n",
    "# create a list of dictionaries\n",
    "dat_train_json = []\n",
    "for i in range(dat_train.shape[0]):\n",
    "    image_id = dat_train.iloc[i].image_id\n",
    "    food_drink_brand = dat_train.iloc[i].food_drink_brand\n",
    "    dat_train_json.append({\n",
    "        \"id\": f\"{image_id}\",\n",
    "        \"image\": f\"{image_id}\",\n",
    "        \"conversations\": [\n",
    "            {\n",
    "                \"from\": \"human\",\n",
    "                \"value\": \"<image>\\nPlease analyze the content of the provided image to determine if it contains any food or drink items. If you find no food or drink items in either text or image format, reply with 0. If you find food or drink items that are not branded, reply with 1. If you find food or drink items that are branded, reply with 2.\" \n",
    "            },\n",
    "            {\n",
    "                \"from\": \"gpt\",\n",
    "                \"value\": f\"{food_drink_brand}\"\n",
    "            },\n",
    "        ]\n",
    "    })\n",
    "\n",
    "\n",
    "# save dat_train_json to a json file\n",
    "with open('/home/mjcho/Food_Identification/data/dat_train.json', 'w') as f:\n",
    "    json.dump(dat_train_json, f)"
   ]
  },
  {
   "cell_type": "markdown",
   "metadata": {},
   "source": [
    "### Tuning model"
   ]
  },
  {
   "cell_type": "code",
   "execution_count": null,
   "metadata": {},
   "outputs": [],
   "source": [
    "# # This needs to be run in the terminal because it uses wandb\n",
    "# !deepspeed llava/train/train_mem.py \\\n",
    "#     --lora_enable True --lora_r 128 --lora_alpha 256 --mm_projector_lr 2e-5 \\\n",
    "#     --deepspeed ./scripts/zero3.json \\\n",
    "#     --model_name_or_path  liuhaotian/llava-v1.5-7b \\\n",
    "#     --version v1 \\\n",
    "#     --data_path /home/mjcho/Food_Identification/data/dat_train.json \\\n",
    "#     --image_folder /home/mjcho/Food_Identification/labeled_imgs_resized_0.5 \\\n",
    "#     --vision_tower openai/clip-vit-large-patch14-336 \\\n",
    "#     --mm_projector_type mlp2x_gelu \\\n",
    "#     --mm_vision_select_layer -2 \\\n",
    "#     --mm_use_im_start_end False \\\n",
    "#     --mm_use_im_patch_token False \\\n",
    "#     --image_aspect_ratio pad \\\n",
    "#     --group_by_modality_length True \\\n",
    "#     --bf16 True \\\n",
    "#     --output_dir ./checkpoints/llava-v1.5-7b-task-lora \\\n",
    "#     --num_train_epochs 1 \\\n",
    "#     --per_device_train_batch_size 16 \\\n",
    "#     --per_device_eval_batch_size 4 \\\n",
    "#     --gradient_accumulation_steps 1 \\\n",
    "#     --evaluation_strategy \"no\" \\\n",
    "#     --save_strategy \"steps\" \\\n",
    "#     --save_steps 50000 \\\n",
    "#     --save_total_limit 1 \\\n",
    "#     --learning_rate 2e-4 \\\n",
    "#     --weight_decay 0. \\\n",
    "#     --warmup_ratio 0.03 \\\n",
    "#     --lr_scheduler_type \"cosine\" \\\n",
    "#     --logging_steps 1 \\\n",
    "#     --tf32 True \\\n",
    "#     --model_max_length 2048 \\\n",
    "#     --gradient_checkpointing True \\\n",
    "#     --dataloader_num_workers 4 \\\n",
    "#     --lazy_preprocess True \\\n",
    "#     --report_to wandb"
   ]
  },
  {
   "cell_type": "markdown",
   "metadata": {},
   "source": [
    "### Prediction"
   ]
  },
  {
   "cell_type": "code",
   "execution_count": 22,
   "metadata": {},
   "outputs": [
    {
     "name": "stdout",
     "output_type": "stream",
     "text": [
      "Loading LLaVA from base model...\n"
     ]
    },
    {
     "name": "stderr",
     "output_type": "stream",
     "text": [
      "Loading checkpoint shards: 100%|██████████| 2/2 [00:04<00:00,  2.11s/it]\n"
     ]
    },
    {
     "name": "stdout",
     "output_type": "stream",
     "text": [
      "Loading additional LLaVA weights...\n",
      "Loading LoRA weights...\n",
      "Merging LoRA weights...\n",
      "Model is loaded...\n"
     ]
    }
   ],
   "source": [
    "# Load model\n",
    "\n",
    "disable_torch_init()\n",
    "\n",
    "model_path = \"/home/Screenshot-LMM/LLaVA/checkpoints/llava-v1.5-7b-task-lora\" # \n",
    "# model_path = \"liuhaotian/llava-v1.6-mistral-7b\"\n",
    "\n",
    "model_name = get_model_name_from_path(model_path)\n",
    "tokenizer, model, image_processor, context_len = load_pretrained_model(\n",
    "    model_path, model_base = \"liuhaotian/llava-v1.5-7b\", model_name = model_name\n",
    ")"
   ]
  },
  {
   "cell_type": "code",
   "execution_count": 23,
   "metadata": {},
   "outputs": [],
   "source": [
    "# args\n",
    "# \"model_path\": model_path,\n",
    "# \"model_base\": None,\n",
    "# \"model_name\": get_model_name_from_path(model_path),\n",
    "# \"query\": prompt,\n",
    "# \"conv_mode\": None,\n",
    "# \"image_file\": image_file,\n",
    "# \"sep\": \",\",\n",
    "# \"temperature\": 0,\n",
    "# \"top_p\": None,\n",
    "# \"num_beams\": 1,\n",
    "# \"max_new_tokens\": 512\n",
    "\n",
    "# choose conv mode\n",
    "if \"llama-2\" in model_name.lower():\n",
    "    conv_mode = \"llava_llama_2\"\n",
    "elif \"mistral\" in model_name.lower():\n",
    "    conv_mode = \"mistral_instruct\"\n",
    "elif \"v1.6-34b\" in model_name.lower():\n",
    "    conv_mode = \"chatml_direct\"\n",
    "elif \"v1\" in model_name.lower():\n",
    "    conv_mode = \"llava_v1\"\n",
    "elif \"mpt\" in model_name.lower():\n",
    "    conv_mode = \"mpt\"\n",
    "else:\n",
    "    conv_mode = \"llava_v0\"\n",
    "\n",
    "temperature = 0\n",
    "top_p = None\n",
    "num_beams = 1\n",
    "max_new_tokens = 512"
   ]
  },
  {
   "cell_type": "code",
   "execution_count": 24,
   "metadata": {},
   "outputs": [],
   "source": [
    "# format query\n",
    "qs = \"Please analyze the content of the provided image to determine if it contains any food or drink items. If you find no food or drink items in either text or image format, reply with 0. If you find food or drink items that are not branded, reply with 1. If you find food or drink items that are branded, reply with 2.\" \n",
    "image_token_se = DEFAULT_IM_START_TOKEN + DEFAULT_IMAGE_TOKEN + DEFAULT_IM_END_TOKEN\n",
    "if IMAGE_PLACEHOLDER in qs:\n",
    "    if model.config.mm_use_im_start_end:\n",
    "        qs = re.sub(IMAGE_PLACEHOLDER, image_token_se, qs)\n",
    "    else:\n",
    "        qs = re.sub(IMAGE_PLACEHOLDER, DEFAULT_IMAGE_TOKEN, qs)\n",
    "else:\n",
    "    if model.config.mm_use_im_start_end:\n",
    "        qs = image_token_se + \"\\n\" + qs\n",
    "    else:\n",
    "        qs = DEFAULT_IMAGE_TOKEN + \"\\n\" + qs"
   ]
  },
  {
   "cell_type": "code",
   "execution_count": 25,
   "metadata": {},
   "outputs": [],
   "source": [
    "def load_images(image_files):\n",
    "    out = []\n",
    "    for image_file in image_files:\n",
    "        image = load_image(image_file)\n",
    "        out.append(image)\n",
    "    return out\n",
    "\n",
    "def load_image(image_file):\n",
    "    if image_file.startswith(\"http\") or image_file.startswith(\"https\"):\n",
    "        response = requests.get(image_file)\n",
    "        image = Image.open(BytesIO(response.content)).convert(\"RGB\")\n",
    "    else:\n",
    "        image = Image.open(image_file).convert(\"RGB\")\n",
    "    return image\n"
   ]
  },
  {
   "cell_type": "code",
   "execution_count": 26,
   "metadata": {},
   "outputs": [],
   "source": [
    "conv = conv_templates[conv_mode].copy()\n",
    "conv.append_message(conv.roles[0], qs)\n",
    "conv.append_message(conv.roles[1], None)\n",
    "prompt = conv.get_prompt()\n",
    "\n",
    "input_ids = (\n",
    "    tokenizer_image_token(prompt, tokenizer, IMAGE_TOKEN_INDEX, return_tensors=\"pt\")\n",
    "    .unsqueeze(0)\n",
    "    .cuda()\n",
    ")"
   ]
  },
  {
   "cell_type": "code",
   "execution_count": 27,
   "metadata": {},
   "outputs": [],
   "source": [
    "# image file is '/home/mjcho/Food_Identification/llava-food_drink_brand/' + dat.image_id, store in a list\n",
    "image_files = ['/home/mjcho/Food_Identification/labeled_imgs_resized_0.5/' + x for x in dat_test.image_id]\n",
    "# print(image_files)\n",
    "# images = load_images(image_files)\n"
   ]
  },
  {
   "cell_type": "code",
   "execution_count": 28,
   "metadata": {},
   "outputs": [
    {
     "name": "stderr",
     "output_type": "stream",
     "text": [
      "  0%|          | 0/347 [00:00<?, ?it/s]/home/mjcho/micromamba/envs/llava/lib/python3.10/site-packages/transformers/generation/configuration_utils.py:392: UserWarning: `do_sample` is set to `False`. However, `temperature` is set to `0` -- this flag is only used in sample-based generation modes. You should set `do_sample=True` or unset `temperature`.\n",
      "  warnings.warn(\n",
      "/home/mjcho/micromamba/envs/llava/lib/python3.10/site-packages/transformers/generation/configuration_utils.py:397: UserWarning: `do_sample` is set to `False`. However, `top_p` is set to `None` -- this flag is only used in sample-based generation modes. You should set `do_sample=True` or unset `top_p`.\n",
      "  warnings.warn(\n",
      "  0%|          | 1/347 [00:00<01:23,  4.14it/s]"
     ]
    },
    {
     "name": "stderr",
     "output_type": "stream",
     "text": [
      "100%|██████████| 347/347 [01:17<00:00,  4.48it/s]\n"
     ]
    }
   ],
   "source": [
    "outputs = []\n",
    "for image_file in tqdm(image_files):\n",
    "    images = [load_image(image_file)]\n",
    "    image_sizes = [x.size for x in images]\n",
    "    images_tensor = process_images(\n",
    "        images,\n",
    "        image_processor,\n",
    "        model.config\n",
    "    ).to(model.device, dtype=torch.float16)\n",
    "\n",
    "\n",
    "    with torch.inference_mode():\n",
    "        output_ids = model.generate(\n",
    "            input_ids,\n",
    "            images=images_tensor,\n",
    "            image_sizes=image_sizes,\n",
    "            do_sample=True if temperature > 0 else False,\n",
    "            temperature=temperature,\n",
    "            top_p=top_p,\n",
    "            num_beams=num_beams,\n",
    "            max_new_tokens=max_new_tokens,\n",
    "            use_cache=False,\n",
    "        )\n",
    "\n",
    "    output = tokenizer.batch_decode(output_ids, skip_special_tokens=True)[0]\n",
    "    outputs.append(output)"
   ]
  },
  {
   "cell_type": "code",
   "execution_count": 32,
   "metadata": {},
   "outputs": [],
   "source": [
    "# convert outputs to int64 then add to dat_test as llava_food_drink_brand\n",
    "dat_test['llava_food_drink_brand'] = outputs\n",
    "dat_test['llava_food_drink_brand'] = dat_test['llava_food_drink_brand'].astype(int)\n",
    "\n",
    "dat_test.to_csv('/home/mjcho/Food_Identification/data/llava-lora-food_drink_brand.csv', index=False)"
   ]
  },
  {
   "cell_type": "code",
   "execution_count": 33,
   "metadata": {},
   "outputs": [
    {
     "data": {
      "text/html": [
       "<div>\n",
       "<style scoped>\n",
       "    .dataframe tbody tr th:only-of-type {\n",
       "        vertical-align: middle;\n",
       "    }\n",
       "\n",
       "    .dataframe tbody tr th {\n",
       "        vertical-align: top;\n",
       "    }\n",
       "\n",
       "    .dataframe thead th {\n",
       "        text-align: right;\n",
       "    }\n",
       "</style>\n",
       "<table border=\"1\" class=\"dataframe\">\n",
       "  <thead>\n",
       "    <tr style=\"text-align: right;\">\n",
       "      <th></th>\n",
       "      <th>image_id</th>\n",
       "      <th>feature1</th>\n",
       "      <th>feature2</th>\n",
       "      <th>feature3</th>\n",
       "      <th>feature4</th>\n",
       "      <th>feature5</th>\n",
       "      <th>feature6</th>\n",
       "      <th>feature7</th>\n",
       "      <th>feature8</th>\n",
       "      <th>feature9</th>\n",
       "      <th>...</th>\n",
       "      <th>brand_i</th>\n",
       "      <th>brand</th>\n",
       "      <th>pid</th>\n",
       "      <th>image_link</th>\n",
       "      <th>date</th>\n",
       "      <th>time</th>\n",
       "      <th>text</th>\n",
       "      <th>food_drink_brand</th>\n",
       "      <th>img_exists</th>\n",
       "      <th>llava_food_drink_brand</th>\n",
       "    </tr>\n",
       "  </thead>\n",
       "  <tbody>\n",
       "    <tr>\n",
       "      <th>1779</th>\n",
       "      <td>w5_4166_bort8220@gmail.com20200918140348210.jpg</td>\n",
       "      <td>0.34960</td>\n",
       "      <td>-0.3662</td>\n",
       "      <td>-0.327400</td>\n",
       "      <td>-0.5254</td>\n",
       "      <td>-0.41330</td>\n",
       "      <td>0.1272</td>\n",
       "      <td>-0.22220</td>\n",
       "      <td>0.11830</td>\n",
       "      <td>0.06790</td>\n",
       "      <td>...</td>\n",
       "      <td>0</td>\n",
       "      <td>0</td>\n",
       "      <td>w5_4166_bort8220@gmail.com</td>\n",
       "      <td>hs-nero-phi-reeves-haitech-appspot-com-w5/w5_4...</td>\n",
       "      <td>2020-09-18</td>\n",
       "      <td>14:03:48.210000</td>\n",
       "      <td>10,03 3190 5 $ X deposit Hat44 TORtUNeCoij 200...</td>\n",
       "      <td>0</td>\n",
       "      <td>True</td>\n",
       "      <td>0</td>\n",
       "    </tr>\n",
       "    <tr>\n",
       "      <th>1604</th>\n",
       "      <td>family_200215_harrisalyssa@hotmail.com20210526...</td>\n",
       "      <td>-0.04916</td>\n",
       "      <td>-0.2201</td>\n",
       "      <td>0.004192</td>\n",
       "      <td>-0.1995</td>\n",
       "      <td>-0.27640</td>\n",
       "      <td>0.6520</td>\n",
       "      <td>-0.13750</td>\n",
       "      <td>0.40940</td>\n",
       "      <td>0.10834</td>\n",
       "      <td>...</td>\n",
       "      <td>0</td>\n",
       "      <td>0</td>\n",
       "      <td>family_200215_harrisalyssa@hotmail.com</td>\n",
       "      <td>hs-nero-phi-reeves-haitech-appspot-com-family/...</td>\n",
       "      <td>2021-05-26</td>\n",
       "      <td>06:37:58.444000</td>\n",
       "      <td>2.37 Gdoo*0 04 For You Following Wab argyoudbi...</td>\n",
       "      <td>0</td>\n",
       "      <td>True</td>\n",
       "      <td>0</td>\n",
       "    </tr>\n",
       "    <tr>\n",
       "      <th>225</th>\n",
       "      <td>w5_1292_wahidsharon@gmail.com20200722235254230...</td>\n",
       "      <td>0.45200</td>\n",
       "      <td>0.5015</td>\n",
       "      <td>0.400000</td>\n",
       "      <td>-0.8290</td>\n",
       "      <td>-0.11740</td>\n",
       "      <td>0.5405</td>\n",
       "      <td>0.07700</td>\n",
       "      <td>0.01697</td>\n",
       "      <td>0.18920</td>\n",
       "      <td>...</td>\n",
       "      <td>0</td>\n",
       "      <td>0</td>\n",
       "      <td>w5_1292_wahidsharon@gmail.com</td>\n",
       "      <td>hs-nero-phi-reeves-haitech-appspot-com-w5/w5_1...</td>\n",
       "      <td>2020-07-22</td>\n",
       "      <td>23:52:54.230000</td>\n",
       "      <td>6.52 9590 Best Triple Berry 0 8 delish com</td>\n",
       "      <td>1</td>\n",
       "      <td>True</td>\n",
       "      <td>0</td>\n",
       "    </tr>\n",
       "    <tr>\n",
       "      <th>1135</th>\n",
       "      <td>family_100654_pierce.workman360@gmail.com20210...</td>\n",
       "      <td>-0.06590</td>\n",
       "      <td>0.4673</td>\n",
       "      <td>-0.212600</td>\n",
       "      <td>-1.1260</td>\n",
       "      <td>0.04803</td>\n",
       "      <td>-0.7437</td>\n",
       "      <td>1.00500</td>\n",
       "      <td>-0.09330</td>\n",
       "      <td>0.47340</td>\n",
       "      <td>...</td>\n",
       "      <td>0</td>\n",
       "      <td>0</td>\n",
       "      <td>family_100654_pierce.workman360@gmail.com</td>\n",
       "      <td>hs-nero-phi-reeves-haitech-appspot-com-family/...</td>\n",
       "      <td>2021-06-28</td>\n",
       "      <td>14:32:02.231000</td>\n",
       "      <td>40 UG74 46% 10.32 AM Wright &amp; Co Law Offices e...</td>\n",
       "      <td>0</td>\n",
       "      <td>True</td>\n",
       "      <td>0</td>\n",
       "    </tr>\n",
       "    <tr>\n",
       "      <th>959</th>\n",
       "      <td>family_1004381_dumdumdurr1@gmail.com2021051222...</td>\n",
       "      <td>0.08700</td>\n",
       "      <td>0.2668</td>\n",
       "      <td>0.217300</td>\n",
       "      <td>0.2030</td>\n",
       "      <td>0.08890</td>\n",
       "      <td>0.3604</td>\n",
       "      <td>0.01155</td>\n",
       "      <td>0.23730</td>\n",
       "      <td>-0.26320</td>\n",
       "      <td>...</td>\n",
       "      <td>0</td>\n",
       "      <td>0</td>\n",
       "      <td>family_1004381_dumdumdurr1@gmail.com</td>\n",
       "      <td>hs-nero-phi-reeves-haitech-appspot-com-family/...</td>\n",
       "      <td>2021-05-12</td>\n",
       "      <td>22:17:14.480000</td>\n",
       "      <td>Sn 0 1 Gdme of Sultans INSTALL Free #History #...</td>\n",
       "      <td>0</td>\n",
       "      <td>True</td>\n",
       "      <td>0</td>\n",
       "    </tr>\n",
       "  </tbody>\n",
       "</table>\n",
       "<p>5 rows × 833 columns</p>\n",
       "</div>"
      ],
      "text/plain": [
       "                                               image_id  feature1  feature2  \\\n",
       "1779    w5_4166_bort8220@gmail.com20200918140348210.jpg   0.34960   -0.3662   \n",
       "1604  family_200215_harrisalyssa@hotmail.com20210526...  -0.04916   -0.2201   \n",
       "225   w5_1292_wahidsharon@gmail.com20200722235254230...   0.45200    0.5015   \n",
       "1135  family_100654_pierce.workman360@gmail.com20210...  -0.06590    0.4673   \n",
       "959   family_1004381_dumdumdurr1@gmail.com2021051222...   0.08700    0.2668   \n",
       "\n",
       "      feature3  feature4  feature5  feature6  feature7  feature8  feature9  \\\n",
       "1779 -0.327400   -0.5254  -0.41330    0.1272  -0.22220   0.11830   0.06790   \n",
       "1604  0.004192   -0.1995  -0.27640    0.6520  -0.13750   0.40940   0.10834   \n",
       "225   0.400000   -0.8290  -0.11740    0.5405   0.07700   0.01697   0.18920   \n",
       "1135 -0.212600   -1.1260   0.04803   -0.7437   1.00500  -0.09330   0.47340   \n",
       "959   0.217300    0.2030   0.08890    0.3604   0.01155   0.23730  -0.26320   \n",
       "\n",
       "      ...  brand_i  brand                                        pid  \\\n",
       "1779  ...        0      0                 w5_4166_bort8220@gmail.com   \n",
       "1604  ...        0      0     family_200215_harrisalyssa@hotmail.com   \n",
       "225   ...        0      0              w5_1292_wahidsharon@gmail.com   \n",
       "1135  ...        0      0  family_100654_pierce.workman360@gmail.com   \n",
       "959   ...        0      0       family_1004381_dumdumdurr1@gmail.com   \n",
       "\n",
       "                                             image_link        date  \\\n",
       "1779  hs-nero-phi-reeves-haitech-appspot-com-w5/w5_4...  2020-09-18   \n",
       "1604  hs-nero-phi-reeves-haitech-appspot-com-family/...  2021-05-26   \n",
       "225   hs-nero-phi-reeves-haitech-appspot-com-w5/w5_1...  2020-07-22   \n",
       "1135  hs-nero-phi-reeves-haitech-appspot-com-family/...  2021-06-28   \n",
       "959   hs-nero-phi-reeves-haitech-appspot-com-family/...  2021-05-12   \n",
       "\n",
       "                 time                                               text  \\\n",
       "1779  14:03:48.210000  10,03 3190 5 $ X deposit Hat44 TORtUNeCoij 200...   \n",
       "1604  06:37:58.444000  2.37 Gdoo*0 04 For You Following Wab argyoudbi...   \n",
       "225   23:52:54.230000         6.52 9590 Best Triple Berry 0 8 delish com   \n",
       "1135  14:32:02.231000  40 UG74 46% 10.32 AM Wright & Co Law Offices e...   \n",
       "959   22:17:14.480000  Sn 0 1 Gdme of Sultans INSTALL Free #History #...   \n",
       "\n",
       "      food_drink_brand  img_exists  llava_food_drink_brand  \n",
       "1779                 0        True                       0  \n",
       "1604                 0        True                       0  \n",
       "225                  1        True                       0  \n",
       "1135                 0        True                       0  \n",
       "959                  0        True                       0  \n",
       "\n",
       "[5 rows x 833 columns]"
      ]
     },
     "execution_count": 33,
     "metadata": {},
     "output_type": "execute_result"
    }
   ],
   "source": [
    "dat_test.head()"
   ]
  },
  {
   "cell_type": "markdown",
   "metadata": {},
   "source": [
    "### Evaluate performance"
   ]
  },
  {
   "cell_type": "code",
   "execution_count": 34,
   "metadata": {},
   "outputs": [],
   "source": [
    "from sklearn.metrics import accuracy_score, classification_report, confusion_matrix, cohen_kappa_score\n",
    "from sklearn.model_selection import cross_val_score\n",
    "import krippendorff\n",
    "\n",
    "import numpy as np\n",
    "import pandas as pd\n",
    "import matplotlib.pyplot as plt\n",
    "# import seaborn as sns\n",
    "\n",
    "\n",
    "def show_performance_metric(y_test, y_pred):\n",
    "    accuracy = accuracy_score(y_test, y_pred)\n",
    "    report = classification_report(y_test, y_pred)\n",
    "    # printing metrics\n",
    "    print(f\"Accuracy: {accuracy}\")\n",
    "    print(\"Classification Report:\\n\", report)\n",
    "\n",
    "    ## Plot confusion matrix\n",
    "    classes = np.unique(y_test)\n",
    "    cm = confusion_matrix(y_test, y_pred)\n",
    "    print(cm)\n",
    "    # fig, ax = plt.subplots()\n",
    "    # sns.heatmap(cm, annot=True, fmt='d', ax=ax, cmap=plt.cm.Blues, \n",
    "    #             cbar=False)\n",
    "    # ax.set(xlabel=\"Pred\", ylabel=\"True\", xticklabels=classes, \n",
    "    #     yticklabels=classes, title=\"Confusion matrix\")\n",
    "    # plt.yticks(rotation=0)"
   ]
  },
  {
   "cell_type": "code",
   "execution_count": 35,
   "metadata": {},
   "outputs": [
    {
     "name": "stdout",
     "output_type": "stream",
     "text": [
      "Accuracy: 0.9481268011527377\n",
      "Classification Report:\n",
      "               precision    recall  f1-score   support\n",
      "\n",
      "           0       0.96      0.99      0.98       286\n",
      "           1       0.86      0.84      0.85        44\n",
      "           2       0.90      0.53      0.67        17\n",
      "\n",
      "    accuracy                           0.95       347\n",
      "   macro avg       0.91      0.79      0.83       347\n",
      "weighted avg       0.95      0.95      0.94       347\n",
      "\n",
      "[[283   2   1]\n",
      " [  7  37   0]\n",
      " [  4   4   9]]\n",
      "Kappa: 0.8177042290517468\n",
      "Alpha: 0.8178153616965342\n",
      "\n",
      "--------------------------------------------------------------------------------------\n",
      "\n",
      "Accuracy: 0.9596541786743515\n",
      "Classification Report:\n",
      "               precision    recall  f1-score   support\n",
      "\n",
      "           0       0.96      0.99      0.98       286\n",
      "           1       0.94      0.82      0.88        61\n",
      "\n",
      "    accuracy                           0.96       347\n",
      "   macro avg       0.95      0.90      0.93       347\n",
      "weighted avg       0.96      0.96      0.96       347\n",
      "\n",
      "[[283   3]\n",
      " [ 11  50]]\n",
      "Kappa: 0.8531971473467908\n",
      "Alpha: 0.8532667876588022\n"
     ]
    }
   ],
   "source": [
    "# # add outputs to dat as llava_food_drink_brand\n",
    "# # dat['llava_food_drink_brand'] = outputs\n",
    "# # count values in dat.food_drink_brand\n",
    "# dat.food_drink_brand.value_counts()\n",
    "# # count values in dat.llava_food_drink_brand\n",
    "# dat.llava_food_drink_brand.value_counts()\n",
    "\n",
    "# read the data\n",
    "dat = pd.read_csv('/home/mjcho/Food_Identification/data/llava-lora-food_drink_brand.csv')\n",
    "\n",
    "# code llava_food_drink_brand to llava_food_or_drink, where 0 is no food or drink, 1 is food or drink\n",
    "dat['llava_food_or_drink'] = 0\n",
    "dat.loc[dat.llava_food_drink_brand == 1, 'llava_food_or_drink'] = 1\n",
    "dat.loc[dat.llava_food_drink_brand == 2, 'llava_food_or_drink'] = 1\n",
    "\n",
    "# compute performance\n",
    "show_performance_metric(dat.food_drink_brand, dat.llava_food_drink_brand)\n",
    "kappa = cohen_kappa_score(dat.food_drink_brand, dat.llava_food_drink_brand)\n",
    "print(f\"Kappa: {kappa}\")\n",
    "reliability_data  = [dat.food_drink_brand, dat.llava_food_drink_brand]\n",
    "print(f\"Alpha: {krippendorff.alpha(reliability_data=reliability_data, level_of_measurement='nominal')}\")\n",
    "\n",
    "\n",
    "print()\n",
    "print(\"--------------------------------------------------------------------------------------\")\n",
    "print()\n",
    "\n",
    "show_performance_metric(dat.food_or_drink, dat.llava_food_or_drink)\n",
    "kappa = cohen_kappa_score(dat.food_or_drink, dat.llava_food_or_drink)\n",
    "print(f\"Kappa: {kappa}\")\n",
    "reliability_data  = [dat.food_or_drink, dat.llava_food_or_drink]\n",
    "print(f\"Alpha: {krippendorff.alpha(reliability_data=reliability_data, level_of_measurement='nominal')}\")\n",
    "\n"
   ]
  },
  {
   "cell_type": "markdown",
   "metadata": {},
   "source": [
    "## Inference with LLaVA\n",
    "Use tuned LLaVA to predict unseen images and generate labels.  \n",
    "\n",
    "Below, we infer for 20K images from \"family-clip-dRa-20211001_20211008-19500.parquet\", which is 1 week of images from the family dataset (see Doc_Embeddings.ipynb).  \n",
    "Images are downloaded using Viewer.ipynb with viewer2.py.\n"
   ]
  },
  {
   "cell_type": "code",
   "execution_count": 39,
   "metadata": {},
   "outputs": [],
   "source": [
    "# load sampled data parquet\n",
    "dat = pd.read_parquet('/home/mjcho/Food_Identification/data/sample_for_llava_20K.parquet')\n",
    "\n",
    "# image file is '/home/mjcho/Food_Identification/llava-food_drink_brand/' + dat.image_id, store in a list\n",
    "image_files = ['/home/mjcho/Food_Identification/sampled_for_llava_20K_resized_0.5/' + x for x in dat.image_id]\n",
    "# print(image_files)\n",
    "# images = load_images(image_files)\n"
   ]
  },
  {
   "cell_type": "code",
   "execution_count": 41,
   "metadata": {},
   "outputs": [
    {
     "name": "stderr",
     "output_type": "stream",
     "text": [
      "  0%|          | 0/20000 [00:00<?, ?it/s]/home/mjcho/micromamba/envs/llava/lib/python3.10/site-packages/transformers/generation/configuration_utils.py:392: UserWarning: `do_sample` is set to `False`. However, `temperature` is set to `0` -- this flag is only used in sample-based generation modes. You should set `do_sample=True` or unset `temperature`.\n",
      "  warnings.warn(\n",
      "/home/mjcho/micromamba/envs/llava/lib/python3.10/site-packages/transformers/generation/configuration_utils.py:397: UserWarning: `do_sample` is set to `False`. However, `top_p` is set to `None` -- this flag is only used in sample-based generation modes. You should set `do_sample=True` or unset `top_p`.\n",
      "  warnings.warn(\n"
     ]
    },
    {
     "name": "stderr",
     "output_type": "stream",
     "text": [
      "100%|██████████| 20000/20000 [1:15:04<00:00,  4.44it/s]\n"
     ]
    }
   ],
   "source": [
    "outputs = []\n",
    "for image_file in tqdm(image_files):\n",
    "    images = [load_image(image_file)]\n",
    "    image_sizes = [x.size for x in images]\n",
    "    images_tensor = process_images(\n",
    "        images,\n",
    "        image_processor,\n",
    "        model.config\n",
    "    ).to(model.device, dtype=torch.float16)\n",
    "\n",
    "\n",
    "    with torch.inference_mode():\n",
    "        output_ids = model.generate(\n",
    "            input_ids,\n",
    "            images=images_tensor,\n",
    "            image_sizes=image_sizes,\n",
    "            do_sample=True if temperature > 0 else False,\n",
    "            temperature=temperature,\n",
    "            top_p=top_p,\n",
    "            num_beams=num_beams,\n",
    "            max_new_tokens=max_new_tokens,\n",
    "            use_cache=False,\n",
    "        )\n",
    "\n",
    "    output = tokenizer.batch_decode(output_ids, skip_special_tokens=True)[0]\n",
    "    outputs.append(output)"
   ]
  },
  {
   "cell_type": "code",
   "execution_count": 43,
   "metadata": {},
   "outputs": [
    {
     "name": "stdout",
     "output_type": "stream",
     "text": [
      "llava_food_drink_brand\n",
      "0    19357\n",
      "1      530\n",
      "2      113\n",
      "Name: count, dtype: int64\n",
      "llava_food_or_drink\n",
      "0    19357\n",
      "1      643\n",
      "Name: count, dtype: int64\n"
     ]
    }
   ],
   "source": [
    "# convert outputs to int64 then add to dat as llava_food_drink_brand\n",
    "dat['llava_food_drink_brand'] = outputs\n",
    "dat['llava_food_drink_brand'] = dat['llava_food_drink_brand'].astype(int)\n",
    "\n",
    "dat['llava_food_or_drink'] = 0\n",
    "dat.loc[dat.llava_food_drink_brand != 0, 'llava_food_or_drink'] = 1\n",
    "\n",
    "print(dat.llava_food_drink_brand.value_counts())\n",
    "print(dat.llava_food_or_drink.value_counts())\n",
    "\n",
    "# save to parquet\n",
    "dat.to_parquet('/home/mjcho/Food_Identification/data/sample_for_llava_20K_inferred.parquet')"
   ]
  },
  {
   "cell_type": "code",
   "execution_count": 44,
   "metadata": {},
   "outputs": [
    {
     "data": {
      "text/html": [
       "<div>\n",
       "<style scoped>\n",
       "    .dataframe tbody tr th:only-of-type {\n",
       "        vertical-align: middle;\n",
       "    }\n",
       "\n",
       "    .dataframe tbody tr th {\n",
       "        vertical-align: top;\n",
       "    }\n",
       "\n",
       "    .dataframe thead th {\n",
       "        text-align: right;\n",
       "    }\n",
       "</style>\n",
       "<table border=\"1\" class=\"dataframe\">\n",
       "  <thead>\n",
       "    <tr style=\"text-align: right;\">\n",
       "      <th></th>\n",
       "      <th>pid</th>\n",
       "      <th>image_id</th>\n",
       "      <th>image_link</th>\n",
       "      <th>date</th>\n",
       "      <th>time</th>\n",
       "      <th>clip_0</th>\n",
       "      <th>clip_1</th>\n",
       "      <th>clip_2</th>\n",
       "      <th>clip_3</th>\n",
       "      <th>clip_4</th>\n",
       "      <th>...</th>\n",
       "      <th>760</th>\n",
       "      <th>761</th>\n",
       "      <th>762</th>\n",
       "      <th>763</th>\n",
       "      <th>764</th>\n",
       "      <th>765</th>\n",
       "      <th>766</th>\n",
       "      <th>767</th>\n",
       "      <th>llava_food_drink_brand</th>\n",
       "      <th>llava_food_or_drink</th>\n",
       "    </tr>\n",
       "  </thead>\n",
       "  <tbody>\n",
       "    <tr>\n",
       "      <th>0</th>\n",
       "      <td>family_206737_takaruharris@gmail.com</td>\n",
       "      <td>family_206737_takaruharris@gmail.com2021100421...</td>\n",
       "      <td>hs-nero-phi-reeves-haitech-appspot-com-family/...</td>\n",
       "      <td>2021-10-04</td>\n",
       "      <td>21:35:44.906</td>\n",
       "      <td>0.099304</td>\n",
       "      <td>0.553223</td>\n",
       "      <td>0.415771</td>\n",
       "      <td>-0.763672</td>\n",
       "      <td>0.422852</td>\n",
       "      <td>...</td>\n",
       "      <td>-0.011698</td>\n",
       "      <td>-0.042068</td>\n",
       "      <td>-0.003703</td>\n",
       "      <td>-0.006687</td>\n",
       "      <td>0.052810</td>\n",
       "      <td>0.042412</td>\n",
       "      <td>-0.049612</td>\n",
       "      <td>-0.033658</td>\n",
       "      <td>0</td>\n",
       "      <td>0</td>\n",
       "    </tr>\n",
       "    <tr>\n",
       "      <th>1</th>\n",
       "      <td>family_211021_czearing@hotmail.com</td>\n",
       "      <td>family_211021_czearing@hotmail.com202110040146...</td>\n",
       "      <td>hs-nero-phi-reeves-haitech-appspot-com-family/...</td>\n",
       "      <td>2021-10-04</td>\n",
       "      <td>01:46:51.091</td>\n",
       "      <td>0.250000</td>\n",
       "      <td>0.574219</td>\n",
       "      <td>0.996582</td>\n",
       "      <td>-0.322998</td>\n",
       "      <td>0.150513</td>\n",
       "      <td>...</td>\n",
       "      <td>0.014259</td>\n",
       "      <td>-0.045966</td>\n",
       "      <td>0.035273</td>\n",
       "      <td>0.004335</td>\n",
       "      <td>-0.007842</td>\n",
       "      <td>-0.007394</td>\n",
       "      <td>0.003939</td>\n",
       "      <td>-0.057370</td>\n",
       "      <td>0</td>\n",
       "      <td>0</td>\n",
       "    </tr>\n",
       "    <tr>\n",
       "      <th>2</th>\n",
       "      <td>family_10135691_ladybughari@gmail.com</td>\n",
       "      <td>family_10135691_ladybughari@gmail.com202110041...</td>\n",
       "      <td>hs-nero-phi-reeves-haitech-appspot-com-family/...</td>\n",
       "      <td>2021-10-04</td>\n",
       "      <td>12:44:29.147</td>\n",
       "      <td>-0.684082</td>\n",
       "      <td>-0.478516</td>\n",
       "      <td>0.429932</td>\n",
       "      <td>-0.068970</td>\n",
       "      <td>-0.953613</td>\n",
       "      <td>...</td>\n",
       "      <td>0.018025</td>\n",
       "      <td>0.069672</td>\n",
       "      <td>-0.006014</td>\n",
       "      <td>0.012100</td>\n",
       "      <td>0.073881</td>\n",
       "      <td>-0.010677</td>\n",
       "      <td>-0.061102</td>\n",
       "      <td>0.061857</td>\n",
       "      <td>0</td>\n",
       "      <td>0</td>\n",
       "    </tr>\n",
       "    <tr>\n",
       "      <th>3</th>\n",
       "      <td>family_1028591_tamiwhitby@mac.com</td>\n",
       "      <td>family_1028591_tamiwhitby@mac.com2021100810223...</td>\n",
       "      <td>hs-nero-phi-reeves-haitech-appspot-com-family/...</td>\n",
       "      <td>2021-10-08</td>\n",
       "      <td>10:22:34.839</td>\n",
       "      <td>0.575684</td>\n",
       "      <td>0.747070</td>\n",
       "      <td>0.460938</td>\n",
       "      <td>-0.045898</td>\n",
       "      <td>-0.664062</td>\n",
       "      <td>...</td>\n",
       "      <td>0.010348</td>\n",
       "      <td>0.053614</td>\n",
       "      <td>0.058122</td>\n",
       "      <td>-0.025764</td>\n",
       "      <td>0.021168</td>\n",
       "      <td>-0.058722</td>\n",
       "      <td>-0.028712</td>\n",
       "      <td>0.026556</td>\n",
       "      <td>0</td>\n",
       "      <td>0</td>\n",
       "    </tr>\n",
       "    <tr>\n",
       "      <th>4</th>\n",
       "      <td>family_207675_zipporahpuffer@gmail.com</td>\n",
       "      <td>family_207675_zipporahpuffer@gmail.com20211003...</td>\n",
       "      <td>hs-nero-phi-reeves-haitech-appspot-com-family/...</td>\n",
       "      <td>2021-10-03</td>\n",
       "      <td>04:49:41.018</td>\n",
       "      <td>-0.261963</td>\n",
       "      <td>0.493164</td>\n",
       "      <td>0.241333</td>\n",
       "      <td>0.005970</td>\n",
       "      <td>-0.146484</td>\n",
       "      <td>...</td>\n",
       "      <td>-0.008672</td>\n",
       "      <td>-0.011206</td>\n",
       "      <td>0.029234</td>\n",
       "      <td>-0.021878</td>\n",
       "      <td>0.020424</td>\n",
       "      <td>0.003715</td>\n",
       "      <td>-0.029968</td>\n",
       "      <td>0.020036</td>\n",
       "      <td>0</td>\n",
       "      <td>0</td>\n",
       "    </tr>\n",
       "  </tbody>\n",
       "</table>\n",
       "<p>5 rows × 1544 columns</p>\n",
       "</div>"
      ],
      "text/plain": [
       "                                      pid  \\\n",
       "0    family_206737_takaruharris@gmail.com   \n",
       "1      family_211021_czearing@hotmail.com   \n",
       "2   family_10135691_ladybughari@gmail.com   \n",
       "3       family_1028591_tamiwhitby@mac.com   \n",
       "4  family_207675_zipporahpuffer@gmail.com   \n",
       "\n",
       "                                            image_id  \\\n",
       "0  family_206737_takaruharris@gmail.com2021100421...   \n",
       "1  family_211021_czearing@hotmail.com202110040146...   \n",
       "2  family_10135691_ladybughari@gmail.com202110041...   \n",
       "3  family_1028591_tamiwhitby@mac.com2021100810223...   \n",
       "4  family_207675_zipporahpuffer@gmail.com20211003...   \n",
       "\n",
       "                                          image_link        date  \\\n",
       "0  hs-nero-phi-reeves-haitech-appspot-com-family/...  2021-10-04   \n",
       "1  hs-nero-phi-reeves-haitech-appspot-com-family/...  2021-10-04   \n",
       "2  hs-nero-phi-reeves-haitech-appspot-com-family/...  2021-10-04   \n",
       "3  hs-nero-phi-reeves-haitech-appspot-com-family/...  2021-10-08   \n",
       "4  hs-nero-phi-reeves-haitech-appspot-com-family/...  2021-10-03   \n",
       "\n",
       "           time    clip_0    clip_1    clip_2    clip_3    clip_4  ...  \\\n",
       "0  21:35:44.906  0.099304  0.553223  0.415771 -0.763672  0.422852  ...   \n",
       "1  01:46:51.091  0.250000  0.574219  0.996582 -0.322998  0.150513  ...   \n",
       "2  12:44:29.147 -0.684082 -0.478516  0.429932 -0.068970 -0.953613  ...   \n",
       "3  10:22:34.839  0.575684  0.747070  0.460938 -0.045898 -0.664062  ...   \n",
       "4  04:49:41.018 -0.261963  0.493164  0.241333  0.005970 -0.146484  ...   \n",
       "\n",
       "        760       761       762       763       764       765       766  \\\n",
       "0 -0.011698 -0.042068 -0.003703 -0.006687  0.052810  0.042412 -0.049612   \n",
       "1  0.014259 -0.045966  0.035273  0.004335 -0.007842 -0.007394  0.003939   \n",
       "2  0.018025  0.069672 -0.006014  0.012100  0.073881 -0.010677 -0.061102   \n",
       "3  0.010348  0.053614  0.058122 -0.025764  0.021168 -0.058722 -0.028712   \n",
       "4 -0.008672 -0.011206  0.029234 -0.021878  0.020424  0.003715 -0.029968   \n",
       "\n",
       "        767  llava_food_drink_brand  llava_food_or_drink  \n",
       "0 -0.033658                       0                    0  \n",
       "1 -0.057370                       0                    0  \n",
       "2  0.061857                       0                    0  \n",
       "3  0.026556                       0                    0  \n",
       "4  0.020036                       0                    0  \n",
       "\n",
       "[5 rows x 1544 columns]"
      ]
     },
     "execution_count": 44,
     "metadata": {},
     "output_type": "execute_result"
    }
   ],
   "source": [
    "dat.head()"
   ]
  },
  {
   "cell_type": "code",
   "execution_count": null,
   "metadata": {},
   "outputs": [],
   "source": []
  }
 ],
 "metadata": {
  "kernelspec": {
   "display_name": "Python 3",
   "language": "python",
   "name": "python3"
  },
  "language_info": {
   "codemirror_mode": {
    "name": "ipython",
    "version": 3
   },
   "file_extension": ".py",
   "mimetype": "text/x-python",
   "name": "python",
   "nbconvert_exporter": "python",
   "pygments_lexer": "ipython3",
   "version": "3.10.13"
  }
 },
 "nbformat": 4,
 "nbformat_minor": 2
}
